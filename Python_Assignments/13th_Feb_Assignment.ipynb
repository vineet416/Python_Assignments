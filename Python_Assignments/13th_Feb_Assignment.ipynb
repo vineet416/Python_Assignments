{
 "cells": [
  {
   "cell_type": "markdown",
   "id": "f7b76d45-cadb-4fda-8c58-defbdc50b928",
   "metadata": {},
   "source": [
    "## Python Assignment Questions (13th-Feb-2023)"
   ]
  },
  {
   "cell_type": "markdown",
   "id": "bf23c7c0-ff34-40a5-8079-f4f02f571579",
   "metadata": {},
   "source": [
    "## Q1. Explain why we have to use the Exception class while creating a Custom Exception.\n",
    "Note: Here Exception class refers to the base class for all the exceptions.    \n",
    "\n",
    "Ans.:- In Python, all exceptions are objects of classes that inherit from the Exception class. When we want to create a custom exception in our program, we need to define a new class that inherits from Exception.\n",
    "\n",
    "The Exception class provides the basic functionality that an exception class needs to have in order to work correctly with the Python exception handling system. It defines methods such as __str__ and __repr__ that allow us to control how the exception is printed and displayed when it is raised. It also provides a mechanism for storing and accessing additional information about the exception, such as an error message or other relevant data.\n",
    "\n",
    "By creating a new class that inherits from Exception, we can define our own custom exception with our own set of attributes and behaviors. This allows us to create exceptions that are specific to our program's needs and that provide more meaningful and informative error messages to the user.\n",
    "\n",
    "For example, suppose we are writing a program that processes data from a file. We might define a custom exception called FileProcessingError that inherits from Exception and includes additional information about the file that caused the error:"
   ]
  },
  {
   "cell_type": "code",
   "execution_count": 1,
   "id": "ad045ea6-a317-4aee-8f63-7143c2a3fb14",
   "metadata": {},
   "outputs": [],
   "source": [
    "class FileProcessingError(Exception):\n",
    "    def __init__(self, filename, message):\n",
    "        self.filename = filename\n",
    "        self.message = message\n",
    "\n",
    "    def __str__(self):\n",
    "        return f\"Error processing file {self.filename}: {self.message}\""
   ]
  },
  {
   "cell_type": "code",
   "execution_count": 2,
   "id": "574e2dce-9fab-4115-bc1f-4ef2f3a5a824",
   "metadata": {},
   "outputs": [
    {
     "ename": "FileProcessingError",
     "evalue": "Error processing file data.csv: Invalid data format",
     "output_type": "error",
     "traceback": [
      "\u001b[0;31m---------------------------------------------------------------------------\u001b[0m",
      "\u001b[0;31mFileProcessingError\u001b[0m                       Traceback (most recent call last)",
      "Cell \u001b[0;32mIn [2], line 1\u001b[0m\n\u001b[0;32m----> 1\u001b[0m \u001b[38;5;28;01mraise\u001b[39;00m FileProcessingError(\u001b[38;5;124m\"\u001b[39m\u001b[38;5;124mdata.csv\u001b[39m\u001b[38;5;124m\"\u001b[39m, \u001b[38;5;124m\"\u001b[39m\u001b[38;5;124mInvalid data format\u001b[39m\u001b[38;5;124m\"\u001b[39m)\n",
      "\u001b[0;31mFileProcessingError\u001b[0m: Error processing file data.csv: Invalid data format"
     ]
    }
   ],
   "source": [
    "raise FileProcessingError(\"data.csv\", \"Invalid data format\")"
   ]
  },
  {
   "cell_type": "markdown",
   "id": "92a66ba7-b096-4314-be89-87c4c0a05594",
   "metadata": {},
   "source": [
    "## Q2. Write a python program to print Python Exception Hierarchy.\n",
    "\n",
    "Ans.:-"
   ]
  },
  {
   "cell_type": "code",
   "execution_count": 3,
   "id": "28c92df7-6a53-4f13-a074-d5bed6f8ff08",
   "metadata": {},
   "outputs": [],
   "source": [
    "import sys\n",
    "\n",
    "def print_exception_hierarchy():\n",
    "    \"\"\"Prints the Python exception hierarchy\"\"\"\n",
    "    for exc in reversed(sorted(sys.modules[__name__].__dict__.values(), key=lambda exc: getattr(exc, \"__name__\", \"\"))):\n",
    "        if isinstance(exc, type) and issubclass(exc, BaseException):\n",
    "            print(exc.__name__)"
   ]
  },
  {
   "cell_type": "code",
   "execution_count": 6,
   "id": "3eec5833-9d00-4a9b-b771-dd07597b8d48",
   "metadata": {},
   "outputs": [
    {
     "name": "stdout",
     "output_type": "stream",
     "text": [
      "FileProcessingError\n"
     ]
    }
   ],
   "source": [
    "print_exception_hierarchy()"
   ]
  },
  {
   "cell_type": "markdown",
   "id": "bf5cad09-e3d5-4c93-9551-3311d833eab8",
   "metadata": {},
   "source": [
    "## Q3. What errors are defined in the ArithmeticError class? Explain any two with an example.\n",
    "\n",
    "Ans.:- The ArithmeticError class is a built-in class in Python that is the base class for all errors that occur during numeric calculations. It is a subclass of the Exception class and a superclass of several other built-in exception classes such as \"ZeroDivisionError\", \"FloatingPointError\", \"OverflowError\", and \"UnderflowError\".\n",
    "\n",
    "The ArithmeticError class defines several different errors that can occur during numeric calculations. Here are two examples with an explanation:\n",
    "\n",
    "- ZeroDivisionError: This error occurs when attempting to divide a number by zero. For example:"
   ]
  },
  {
   "cell_type": "code",
   "execution_count": 7,
   "id": "0fa7e7fb-12fb-4d76-b1ed-c6f2da1b2df1",
   "metadata": {},
   "outputs": [
    {
     "name": "stdout",
     "output_type": "stream",
     "text": [
      "Error: Cannot divide by zero\n"
     ]
    }
   ],
   "source": [
    "a = 10\n",
    "b = 0\n",
    "\n",
    "try:\n",
    "    result = a/b\n",
    "except ZeroDivisionError:\n",
    "    print(\"Error: Cannot divide by zero\")"
   ]
  },
  {
   "cell_type": "markdown",
   "id": "d66ca556-0d53-4e1b-998a-8693148e2a27",
   "metadata": {},
   "source": [
    "- OverflowError: This error occurs when the result of a calculation exceeds the maximum representable value for a numeric type. For example:"
   ]
  },
  {
   "cell_type": "code",
   "execution_count": 1,
   "id": "628d2257-ad2a-445a-8058-1069f204f922",
   "metadata": {},
   "outputs": [],
   "source": [
    "import sys\n",
    "\n",
    "a = sys.maxsize\n",
    "b = 1\n",
    "\n",
    "try:\n",
    "    result = a + b\n",
    "except OverflowError:\n",
    "    print(\"Error: Integer overflow occurred\")"
   ]
  },
  {
   "cell_type": "markdown",
   "id": "c6da6903-c423-4252-9321-9a92744baeec",
   "metadata": {},
   "source": [
    "## Q4. Why LookupError class is used? Explain with an example KeyError and IndexError.\n",
    "\n",
    "Ans.:- The LookupError is a base class for all the exceptions that indicate a lookup or indexing operation failed. This class is used to catch errors that occur when an index or key is used to look up a value in a collection like a list, tuple, or dictionary, but the index or key is invalid or does not exist.\n",
    "\n",
    "KeyError and IndexError are two exceptions that inherit from LookupError.\n",
    "\n",
    "- A KeyError is raised when an attempt is made to access a dictionary key that does not exist. Here is an example:"
   ]
  },
  {
   "cell_type": "code",
   "execution_count": 2,
   "id": "0bfd893a-83e7-4c0c-818a-60d288a1c294",
   "metadata": {},
   "outputs": [
    {
     "name": "stdout",
     "output_type": "stream",
     "text": [
      "Error: Key 'd' not found in dictionary\n"
     ]
    }
   ],
   "source": [
    "my_dict = {'a': 1, 'b': 2, 'c': 3}\n",
    "\n",
    "try:\n",
    "    value = my_dict['d']\n",
    "except KeyError:\n",
    "    print(\"Error: Key 'd' not found in dictionary\")"
   ]
  },
  {
   "cell_type": "markdown",
   "id": "51c4490c-6bb2-4f3b-83c5-356ec0a2d6db",
   "metadata": {},
   "source": [
    "- An IndexError is raised when an attempt is made to access an index that is outside the range of valid indices for a sequence like a list or tuple. Here is an example:"
   ]
  },
  {
   "cell_type": "code",
   "execution_count": 3,
   "id": "51f6f467-4704-4954-918a-4614a5e1166f",
   "metadata": {},
   "outputs": [
    {
     "name": "stdout",
     "output_type": "stream",
     "text": [
      "Error: Index out of range\n"
     ]
    }
   ],
   "source": [
    "my_list = [1, 2, 3]\n",
    "\n",
    "try:\n",
    "    value = my_list[3]\n",
    "except IndexError:\n",
    "    print(\"Error: Index out of range\")"
   ]
  },
  {
   "cell_type": "markdown",
   "id": "fc7f8a9e-b2a3-4dc5-8cfc-ba35c8b58ff5",
   "metadata": {},
   "source": [
    "## Q5. Explain ImportError. What is ModuleNotFoundError?\n",
    "\n",
    "Ans.:-\n",
    "- ImportError is a built-in exception class in Python that is raised when an import statement fails to load a module or a package. This can happen due to various reasons such as a missing module, a syntax error in the module, or a missing dependency for the module.\n",
    "\n",
    "Here's an example of using try and except blocks to handle an ImportError:"
   ]
  },
  {
   "cell_type": "code",
   "execution_count": 4,
   "id": "7c4b77d9-7ae3-49c8-b406-158f4fa58cfb",
   "metadata": {},
   "outputs": [
    {
     "name": "stdout",
     "output_type": "stream",
     "text": [
      "Error: Failed to import module\n"
     ]
    }
   ],
   "source": [
    "try:\n",
    "    import my_module\n",
    "except ImportError:\n",
    "    print(\"Error: Failed to import module\")"
   ]
  },
  {
   "cell_type": "markdown",
   "id": "82d6a554-71c1-41e4-bebf-95c987d28da2",
   "metadata": {},
   "source": [
    "- ModuleNotFoundError is a subclass of ImportError that was introduced in Python 3.6. It is raised when a module is not found by the Python interpreter. This error occurs when the module is missing or its name is misspelled or incorrectly capitalized in the import statement.\n",
    "\n",
    "Here's an example of using try and except blocks to handle a ModuleNotFoundError:"
   ]
  },
  {
   "cell_type": "code",
   "execution_count": 5,
   "id": "38de3710-ddfc-4235-9e0b-8c005233cbd3",
   "metadata": {},
   "outputs": [
    {
     "name": "stdout",
     "output_type": "stream",
     "text": [
      "Error: Module not found\n"
     ]
    }
   ],
   "source": [
    "try:\n",
    "    import my_missing_module\n",
    "except ModuleNotFoundError:\n",
    "    print(\"Error: Module not found\")"
   ]
  },
  {
   "cell_type": "markdown",
   "id": "a0869398-7af8-412d-836d-ea2e163f7634",
   "metadata": {},
   "source": [
    "## Q6. List down some best practices for exception handling in python.\n",
    "\n",
    "Ans.:- Here are some best practices for exception handling in Python:\n",
    "\n",
    "- Use specific exception classes: When catching exceptions, use specific exception classes instead of catching the generic Exception class. This helps in better error handling and debugging.\n",
    "\n",
    "- Handle exceptions at the appropriate level: Exceptions should be handled at the appropriate level where they occur. This ensures that the code is easier to understand, maintain, and debug.\n",
    "\n",
    "- Use try-except-else blocks: Use try-except-else blocks to catch exceptions and handle them. The else block is executed only if no exception is raised in the try block.\n",
    "\n",
    "- Use finally blocks: Use finally blocks to ensure that a piece of code is executed whether an exception occurs or not. This is useful for releasing resources, closing files, or closing database connections.\n",
    "\n",
    "- Use custom exceptions: Use custom exceptions to provide more meaningful and descriptive error messages. This helps in better error handling and debugging.\n",
    "\n",
    "- Use logging: Use logging to record error messages, stack traces, and other relevant information. This helps in diagnosing and fixing issues.\n",
    "\n",
    "- Avoid bare except clauses: Avoid using bare except clauses as they catch all exceptions, including system exceptions, which may not be intended. Instead, use specific exception classes or catch system exceptions separately.\n",
    "\n",
    "- Raise exceptions when appropriate: Raise exceptions when appropriate to indicate that an error has occurred. This helps in better error handling and debugging.\n",
    "\n",
    "- Keep error messages simple and clear: Keep error messages simple and clear so that users can understand what went wrong and how to fix it.\n",
    "\n",
    "- Use context managers: Use context managers to ensure that resources are properly managed and released. This is particularly useful for files, sockets, and database connections.\n",
    "\n",
    "By following these best practices, you can write more robust, maintainable, and error-free Python code."
   ]
  }
 ],
 "metadata": {
  "kernelspec": {
   "display_name": "Python 3 (ipykernel)",
   "language": "python",
   "name": "python3"
  },
  "language_info": {
   "codemirror_mode": {
    "name": "ipython",
    "version": 3
   },
   "file_extension": ".py",
   "mimetype": "text/x-python",
   "name": "python",
   "nbconvert_exporter": "python",
   "pygments_lexer": "ipython3",
   "version": "3.10.6"
  }
 },
 "nbformat": 4,
 "nbformat_minor": 5
}
