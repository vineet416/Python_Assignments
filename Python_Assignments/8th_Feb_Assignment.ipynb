{
 "cells": [
  {
   "cell_type": "markdown",
   "metadata": {},
   "source": [
    "## Python Assignment Question (8th-Feb-2023)"
   ]
  },
  {
   "cell_type": "markdown",
   "metadata": {},
   "source": [
    "## Q1. What is Abstraction in OOps? Explain with an example.\n",
    "\n",
    "Ans.:- Abstraction is one of the fundamental principles of object-oriented programming (OOP). It refers to the process of hiding complex implementation details while exposing only the necessary and relevant information to the users.\n",
    "\n",
    "In OOP, abstraction is implemented using abstract classes and interfaces. Abstract classes define a set of methods that must be implemented by the concrete classes that inherit from them. Interfaces define a set of methods that must be implemented by the classes that implement them. Both of these mechanisms ensure that the user interacts with the objects through a simple and standardized interface, without worrying about the underlying implementation details.\n",
    "\n",
    "For example, let's consider a car. From the outside, a car is a simple object with a few basic properties such as its color, model, and number of doors. These properties are the essential and relevant details that a user needs to know about a car. However, under the hood, a car is an incredibly complex machine with numerous interdependent parts such as engine, transmission, brakes, suspension, etc. that work together to provide the user with a seamless driving experience."
   ]
  },
  {
   "cell_type": "markdown",
   "metadata": {},
   "source": [
    "## Q2. Differentiate between Abstraction and Encapsulation. Explain with an example.\n",
    "\n",
    "\n",
    "Ans.:- Abstraction and encapsulation are two important concepts in object-oriented programming, but they serve different purposes.\n",
    "\n",
    "Abstraction is the process of hiding complex implementation details and presenting only the necessary information to the user. It is a way to achieve data hiding and reduce complexity in a program. For example, a car is an abstraction of complex mechanical parts such as the engine, gearbox, brakes, and steering system. As a driver, you don't need to know how each of these parts works, you just need to know how to use them to drive the car.\n",
    "\n",
    "Encapsulation, on the other hand, is the process of wrapping data and code together into a single unit. It provides a way to protect data from unauthorized access and modification by enforcing access restrictions. For example, a bank account object encapsulates the balance and transaction history data, as well as the code that can modify them. The account object exposes only the necessary methods for deposit, withdrawal, and balance inquiry, while hiding the implementation details and data from the user.\n",
    "\n",
    "In summary, abstraction is about hiding unnecessary details and presenting a simplified view of an object, while encapsulation is about protecting data and code from external access and modification."
   ]
  },
  {
   "cell_type": "markdown",
   "metadata": {},
   "source": [
    "## Q3. What is abc module in python? Why is it used?\n",
    "\n",
    "\n",
    "Ans.:- The abc module in Python stands for Abstract Base Classes. It provides a way to define abstract classes in Python, which cannot be instantiated directly, but must be subclassed by concrete classes. Abstract classes can contain abstract methods, which are defined but not implemented in the abstract class. Subclasses of an abstract class must implement all of its abstract methods.    \n",
    "\n",
    "the abc module provides a way to define and enforce interfaces and common behavior in a flexible and extensible manner, which can lead to more robust and maintainable software systems."
   ]
  },
  {
   "cell_type": "markdown",
   "metadata": {},
   "source": [
    "## Q4. How can we achieve data abstraction?\n",
    "\n",
    "Ans.: To achieve data abstraction, we can define abstract classes or interfaces with abstract methods that define the behavior of the data, without actually providing any implementation. This allows us to create concrete classes that inherit from the abstract classes or implement the interfaces, and provide their own implementations of the abstract methods."
   ]
  },
  {
   "cell_type": "markdown",
   "metadata": {},
   "source": [
    "## Q5. Can we create an instance of an abstract class? Explain your answer.\n",
    "\n",
    "Ans.:- No, we cannot create an instance of an abstract class. Abstract classes are incomplete classes that are meant to be subclassed and extended. They usually contain abstract methods, which are methods without implementations. Abstract classes are designed to provide a common interface or contract for its concrete subclasses."
   ]
  }
 ],
 "metadata": {
  "kernelspec": {
   "display_name": "Python 3 (ipykernel)",
   "language": "python",
   "name": "python3"
  },
  "language_info": {
   "codemirror_mode": {
    "name": "ipython",
    "version": 3
   },
   "file_extension": ".py",
   "mimetype": "text/x-python",
   "name": "python",
   "nbconvert_exporter": "python",
   "pygments_lexer": "ipython3",
   "version": "3.10.6"
  }
 },
 "nbformat": 4,
 "nbformat_minor": 4
}
