{
 "cells": [
  {
   "cell_type": "markdown",
   "id": "031d7309-966f-4ecd-898c-26c9c805668e",
   "metadata": {},
   "source": [
    "## Python Assignment Questions (3-feb-2023)"
   ]
  },
  {
   "cell_type": "markdown",
   "id": "65a1e083-981d-48f1-af9f-4e94af684cd4",
   "metadata": {},
   "source": [
    "## Q1. Which keyword is used to creat a function? Create a function to return a list of odd numbers in the range of 1 to 25\n",
    "\n",
    "Ans.:- In Python, the keyword used to create a function is \"def\"."
   ]
  },
  {
   "cell_type": "code",
   "execution_count": 8,
   "id": "de7a7bed-5015-4cad-afaa-bb8ba2c5fcc6",
   "metadata": {},
   "outputs": [],
   "source": [
    "# function to return a list of odd numbers in the range of 1 to 25\n",
    "\n",
    "def get_odd_numbers ():\n",
    "    odd_numbers = []\n",
    "    for i in range(1,25):\n",
    "        if i%2 != 0:\n",
    "            odd_numbers.append(i)\n",
    "    return odd_numbers"
   ]
  },
  {
   "cell_type": "code",
   "execution_count": 9,
   "id": "a67864a7-fd69-4448-80cd-30945cdca4ce",
   "metadata": {},
   "outputs": [
    {
     "data": {
      "text/plain": [
       "[1, 3, 5, 7, 9, 11, 13, 15, 17, 19, 21, 23]"
      ]
     },
     "execution_count": 9,
     "metadata": {},
     "output_type": "execute_result"
    }
   ],
   "source": [
    "get_odd_numbers()"
   ]
  },
  {
   "cell_type": "code",
   "execution_count": 10,
   "id": "748bffe4-1c1f-45fc-9eb3-061c727df8f7",
   "metadata": {},
   "outputs": [
    {
     "name": "stdin",
     "output_type": "stream",
     "text": [
      "Enter starting number: 1\n",
      "Enter end number: 26\n"
     ]
    },
    {
     "data": {
      "text/plain": [
       "[1, 3, 5, 7, 9, 11, 13, 15, 17, 19, 21, 23, 25]"
      ]
     },
     "execution_count": 10,
     "metadata": {},
     "output_type": "execute_result"
    }
   ],
   "source": [
    "# function to return a list of odd numbers\n",
    "\n",
    "def get_odd_numbers ():\n",
    "    odd_numbers = []\n",
    "    for i in range(int(input(\"Enter starting number:\")),int(input(\"Enter end number:\"))):\n",
    "        if i%2 != 0:\n",
    "            odd_numbers.append(i)\n",
    "    return odd_numbers\n",
    "get_odd_numbers()"
   ]
  },
  {
   "cell_type": "markdown",
   "id": "019b544a-83db-4c76-becb-e79a26e37a18",
   "metadata": {},
   "source": [
    "## Q2. Why *args and **kwargs is used in some functions? Create a function each for *args and **kwargs to demonstrate their use.\n",
    "\n",
    "Ans.:- *args is used to pass a variable number of non-keyworded arguments to a function. It allows you to pass any number of arguments to a function by packing them into a tuple. On the other hand, **kwargs is used to pass a variable number of keyword arguments to a function. It allows you to pass any number of keyword arguments to a function by packing them into a dictionary."
   ]
  },
  {
   "cell_type": "code",
   "execution_count": 11,
   "id": "47a88fe3-f686-413d-8e8d-08b3f82bc52d",
   "metadata": {},
   "outputs": [],
   "source": [
    "# Here's an example function that demonstrates the use of *args:\n",
    "\n",
    "def add_numbers(*args):\n",
    "    sum = 0\n",
    "    for num in args:\n",
    "        sum += num\n",
    "    return sum"
   ]
  },
  {
   "cell_type": "code",
   "execution_count": 21,
   "id": "a0368d51-2f0b-48ec-927e-930311565568",
   "metadata": {},
   "outputs": [],
   "source": [
    "# Here's an example function that demonstrates the use of **kwargs:\n",
    "\n",
    "def print_values(**kwargs):\n",
    "    for key, value in kwargs.items():\n",
    "        print(f\"{key}: {value}\")"
   ]
  },
  {
   "cell_type": "code",
   "execution_count": 16,
   "id": "bfe2081c-9eea-419b-9e36-e0fe290ee674",
   "metadata": {},
   "outputs": [
    {
     "data": {
      "text/plain": [
       "15"
      ]
     },
     "execution_count": 16,
     "metadata": {},
     "output_type": "execute_result"
    }
   ],
   "source": [
    "add_numbers(1, 2, 3, 4, 5)"
   ]
  },
  {
   "cell_type": "code",
   "execution_count": 22,
   "id": "3862a83a-3242-4fa8-a320-58ea3f161921",
   "metadata": {},
   "outputs": [
    {
     "name": "stdout",
     "output_type": "stream",
     "text": [
      "name: Vineet\n",
      "age: 21\n",
      "city: Mumbai\n"
     ]
    }
   ],
   "source": [
    "print_values(name=\"Vineet\", age=21, city=\"Mumbai\")"
   ]
  },
  {
   "cell_type": "markdown",
   "id": "f189f4fb-7e65-4cd0-ad7d-2c8df75d03ad",
   "metadata": {},
   "source": [
    "## Q3. What is an iterator in python? Name the method used to initialise the iterator object and the method used for iteration. Use these methods to print the first five elements of the given list [2, 4, 6, 8, 10, 12, 14,16, 18, 20].\n",
    "\n",
    "\n",
    "Ans.:- In Python, an iterator is an object that can be iterated (looped) upon, which means you can traverse through all the values. It provides a way to access the elements of a container, such as a list or a dictionary, in a sequential manner without having to know the container's internal structure.   \n",
    "The iter() method is used to initialize an iterator object, and the next() method is used for iteration. The next() method retrieves the next element from the iterator, and raises a StopIteration exception when there are no more elements to retrieve."
   ]
  },
  {
   "cell_type": "code",
   "execution_count": 23,
   "id": "31f7e05a-1241-4bc2-930e-d13e43b07cdd",
   "metadata": {},
   "outputs": [
    {
     "name": "stdout",
     "output_type": "stream",
     "text": [
      "2\n",
      "4\n",
      "6\n",
      "8\n",
      "10\n"
     ]
    }
   ],
   "source": [
    "#Here's an example code snippet that prints the first five elements of the list using an iterator:\n",
    "\n",
    "my_list = [2, 4, 6, 8, 10, 12, 14, 16, 18, 20]\n",
    "\n",
    "# Initialize the iterator\n",
    "my_iterator = iter(my_list)\n",
    "\n",
    "# Iterate through the first five elements\n",
    "for i in range(5):\n",
    "    print(next(my_iterator))"
   ]
  },
  {
   "cell_type": "markdown",
   "id": "0bcde96e-73c5-4953-a1d4-9e5c37e8404a",
   "metadata": {},
   "source": [
    "## Q4. What is a generator function in python? Why yield keyword is used? Give an example of a generator function.\n",
    "\n",
    "Ans.:- In Python, a generator function is a special type of function that returns an iterator object that can be used to iterate over a sequence of values. It allows you to create a sequence of values on-the-fly, without having to store the entire sequence in memory.    \n",
    "The yield keyword is used in a generator function to pause the execution of the function and return a value to the caller. When the function is called again, it resumes execution from where it left off and continues until it hits another yield statement or the end of the function is reached."
   ]
  },
  {
   "cell_type": "code",
   "execution_count": 24,
   "id": "dd9f13b2-b2c0-4cea-9ffc-278c5f131453",
   "metadata": {},
   "outputs": [],
   "source": [
    "# Here's an example of a generator function that generates a sequence of squares:\n",
    "\n",
    "def squares(n):\n",
    "    for i in range(n):\n",
    "        yield i**2"
   ]
  },
  {
   "cell_type": "code",
   "execution_count": 25,
   "id": "77c46bb2-457c-41e7-a3ef-7a36a11cd278",
   "metadata": {},
   "outputs": [
    {
     "name": "stdout",
     "output_type": "stream",
     "text": [
      "0\n",
      "1\n",
      "4\n",
      "9\n",
      "16\n",
      "25\n",
      "36\n",
      "49\n",
      "64\n",
      "81\n"
     ]
    }
   ],
   "source": [
    "# Generate a sequence of squares up to 10\n",
    "squares_gen = squares(10)\n",
    "\n",
    "# Iterate over the sequence and print the values\n",
    "for square in squares_gen:\n",
    "    print(square)"
   ]
  },
  {
   "cell_type": "markdown",
   "id": "f29c8ac7-066f-4091-ac07-6405870dcbc2",
   "metadata": {},
   "source": [
    "## Q5. Create a generator function for prime numbers less than 1000. Use the next() method to print the first 20 prime numbers."
   ]
  },
  {
   "cell_type": "code",
   "execution_count": 26,
   "id": "409d9b24-3d80-4015-9d10-9f4d87737eb3",
   "metadata": {},
   "outputs": [],
   "source": [
    "def primes():\n",
    "    yield 2\n",
    "    primes_list = [2]\n",
    "    n = 3\n",
    "    while True:\n",
    "        is_prime = True\n",
    "        for prime in primes_list:\n",
    "            if n % prime == 0:\n",
    "                is_prime = False\n",
    "                break\n",
    "        if is_prime:\n",
    "            primes_list.append(n)\n",
    "            yield n\n",
    "        n += 1\n",
    "        if n >= 1000:\n",
    "            break"
   ]
  },
  {
   "cell_type": "code",
   "execution_count": 27,
   "id": "2a3199fc-3985-4b0b-a603-e0116bb1ebeb",
   "metadata": {},
   "outputs": [
    {
     "name": "stdout",
     "output_type": "stream",
     "text": [
      "2\n",
      "3\n",
      "5\n",
      "7\n",
      "11\n",
      "13\n",
      "17\n",
      "19\n",
      "23\n",
      "29\n",
      "31\n",
      "37\n",
      "41\n",
      "43\n",
      "47\n",
      "53\n",
      "59\n",
      "61\n",
      "67\n",
      "71\n"
     ]
    }
   ],
   "source": [
    "# Generate the first 20 prime numbers\n",
    "prime_gen = primes()\n",
    "for i in range(20):\n",
    "    print(next(prime_gen))"
   ]
  },
  {
   "cell_type": "markdown",
   "id": "33c1211b-f259-4c25-bece-fd04d52a3046",
   "metadata": {},
   "source": [
    "## Q6. Write a python program to print the first 10 Fibonacci numbers using a while loop."
   ]
  },
  {
   "cell_type": "code",
   "execution_count": 28,
   "id": "f4c417f5-c2a8-48a1-9d02-e61ed5f0ea41",
   "metadata": {},
   "outputs": [
    {
     "name": "stdout",
     "output_type": "stream",
     "text": [
      "0\n",
      "1\n",
      "1\n",
      "2\n",
      "3\n",
      "5\n",
      "8\n",
      "13\n",
      "21\n",
      "34\n"
     ]
    }
   ],
   "source": [
    "a, b = 0, 1\n",
    "count = 0\n",
    "while count < 10:\n",
    "    print(a)\n",
    "    c = a + b\n",
    "    a = b\n",
    "    b = c\n",
    "    count += 1"
   ]
  },
  {
   "cell_type": "markdown",
   "id": "4ee15423-678e-4544-848e-1357deb4c816",
   "metadata": {},
   "source": [
    "## Q7. Write a List Comprehension to iterate through the given string: ‘pwskills’.\n",
    "# Expected output: ['p', 'w', 's', 'k', 'i', 'l', 'l', 's']"
   ]
  },
  {
   "cell_type": "code",
   "execution_count": 29,
   "id": "7f359613-e113-4f1a-90a9-a1b65e46fade",
   "metadata": {},
   "outputs": [
    {
     "name": "stdout",
     "output_type": "stream",
     "text": [
      "['p', 'w', 's', 'k', 'i', 'l', 'l', 's']\n"
     ]
    }
   ],
   "source": [
    "string = \"pwskills\"\n",
    "result = [char for char in string if char in \"pwskil\"]\n",
    "print(result)"
   ]
  },
  {
   "cell_type": "markdown",
   "id": "1ef3a5f5-e120-4d4a-aac8-d2d30ab96199",
   "metadata": {},
   "source": [
    "## Q8. Write a python program to check whether a given number is Palindrome or not using a while loop."
   ]
  },
  {
   "cell_type": "code",
   "execution_count": 33,
   "id": "146f4c8b-7d4b-461a-895f-73b731a85336",
   "metadata": {},
   "outputs": [
    {
     "name": "stdin",
     "output_type": "stream",
     "text": [
      "Enter a number:  12321\n"
     ]
    },
    {
     "name": "stdout",
     "output_type": "stream",
     "text": [
      "12321 is a palindrome\n"
     ]
    }
   ],
   "source": [
    "num = int(input(\"Enter a number: \"))\n",
    "temp = num\n",
    "reverse_num = 0\n",
    "\n",
    "while temp > 0:\n",
    "    remainder = temp % 10\n",
    "    reverse_num = reverse_num * 10 + remainder\n",
    "    temp = temp // 10\n",
    "\n",
    "if num == reverse_num:\n",
    "    print(num, \"is a palindrome\")\n",
    "else:\n",
    "    print(num, \"is not a palindrome\")"
   ]
  },
  {
   "cell_type": "markdown",
   "id": "3c0bd43a-9f21-422b-8c60-0eb6f71df8a3",
   "metadata": {},
   "source": [
    "## Q9. Write a code to print odd numbers from 1 to 100 using list comprehension.\n",
    "Note: Use a list comprehension to create a list from 1 to 100 and use another List comprehension to filter out odd numbers."
   ]
  },
  {
   "cell_type": "code",
   "execution_count": 34,
   "id": "2fc17a6c-f1e6-4815-bc2f-b9e244074e23",
   "metadata": {},
   "outputs": [
    {
     "name": "stdout",
     "output_type": "stream",
     "text": [
      "[1, 3, 5, 7, 9, 11, 13, 15, 17, 19, 21, 23, 25, 27, 29, 31, 33, 35, 37, 39, 41, 43, 45, 47, 49, 51, 53, 55, 57, 59, 61, 63, 65, 67, 69, 71, 73, 75, 77, 79, 81, 83, 85, 87, 89, 91, 93, 95, 97, 99]\n"
     ]
    }
   ],
   "source": [
    "# Create a list from 1 to 100\n",
    "num_list = [num for num in range(1, 101)]\n",
    "\n",
    "# Filter out odd numbers from the list\n",
    "odd_num_list = [num for num in num_list if num % 2 != 0]\n",
    "\n",
    "# Print the list of odd numbers\n",
    "print(odd_num_list)"
   ]
  },
  {
   "cell_type": "code",
   "execution_count": null,
   "id": "8562334a-5fd8-4ad7-b218-dce4bf649bc7",
   "metadata": {},
   "outputs": [],
   "source": []
  }
 ],
 "metadata": {
  "kernelspec": {
   "display_name": "Python 3 (ipykernel)",
   "language": "python",
   "name": "python3"
  },
  "language_info": {
   "codemirror_mode": {
    "name": "ipython",
    "version": 3
   },
   "file_extension": ".py",
   "mimetype": "text/x-python",
   "name": "python",
   "nbconvert_exporter": "python",
   "pygments_lexer": "ipython3",
   "version": "3.10.6"
  }
 },
 "nbformat": 4,
 "nbformat_minor": 5
}
