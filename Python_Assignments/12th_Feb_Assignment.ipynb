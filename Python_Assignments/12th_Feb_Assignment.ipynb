{
 "cells": [
  {
   "cell_type": "markdown",
   "id": "ae424321-21ee-44d3-b2ce-de64f3c2e0f4",
   "metadata": {},
   "source": [
    "##  Python Assignment Questions (12th-Feb-2023)"
   ]
  },
  {
   "cell_type": "markdown",
   "id": "1c3fa49e-371f-47f3-ae61-d50002cd3acc",
   "metadata": {},
   "source": [
    "## Q1. What is an Execption in python? Write the difference between Exception and Syntax error.\n",
    "\n",
    "Ans.:- In Python, an exception is an error that occurs during the execution of a program. When an exception is raised, the program stops executing, and Python's exception handling mechanism takes over. The exception handling mechanism allows you to catch and handle exceptions, so your program can continue running instead of crashing.    \n",
    "\n",
    "The main difference between exceptions and syntax errors is that syntax errors are detected by the Python interpreter at the time the code is parsed, while exceptions are detected during the execution of the code. Syntax errors can be fixed by correcting the code, while exceptions can be handled by writing code to catch and handle them."
   ]
  },
  {
   "cell_type": "markdown",
   "id": "b3049630-89f7-42bc-9c13-b06d034a4d71",
   "metadata": {},
   "source": [
    "## Q2. What happens when an exception is not handled? Explain with an example.\n",
    "\n",
    "Ans.:- When an exception is not handled in a Python program, the program terminates abruptly with an error message, and the exception traceback is printed to the console. This can make it difficult to understand what caused the error and how to fix it.\n",
    "\n",
    "Here is an example of what happens when an exception is not handled:"
   ]
  },
  {
   "cell_type": "code",
   "execution_count": 1,
   "id": "85c3f59f-4c2b-42f6-b612-d5773692ae41",
   "metadata": {},
   "outputs": [
    {
     "name": "stdin",
     "output_type": "stream",
     "text": [
      "Enter a number:  10\n",
      "Enter another number:  0\n"
     ]
    },
    {
     "ename": "ZeroDivisionError",
     "evalue": "division by zero",
     "output_type": "error",
     "traceback": [
      "\u001b[0;31m---------------------------------------------------------------------------\u001b[0m",
      "\u001b[0;31mZeroDivisionError\u001b[0m                         Traceback (most recent call last)",
      "Cell \u001b[0;32mIn [1], line 3\u001b[0m\n\u001b[1;32m      1\u001b[0m num1 \u001b[38;5;241m=\u001b[39m \u001b[38;5;28mint\u001b[39m(\u001b[38;5;28minput\u001b[39m(\u001b[38;5;124m\"\u001b[39m\u001b[38;5;124mEnter a number: \u001b[39m\u001b[38;5;124m\"\u001b[39m))\n\u001b[1;32m      2\u001b[0m num2 \u001b[38;5;241m=\u001b[39m \u001b[38;5;28mint\u001b[39m(\u001b[38;5;28minput\u001b[39m(\u001b[38;5;124m\"\u001b[39m\u001b[38;5;124mEnter another number: \u001b[39m\u001b[38;5;124m\"\u001b[39m))\n\u001b[0;32m----> 3\u001b[0m result \u001b[38;5;241m=\u001b[39m \u001b[43mnum1\u001b[49m\u001b[43m \u001b[49m\u001b[38;5;241;43m/\u001b[39;49m\u001b[43m \u001b[49m\u001b[43mnum2\u001b[49m\n\u001b[1;32m      4\u001b[0m \u001b[38;5;28mprint\u001b[39m(\u001b[38;5;124m\"\u001b[39m\u001b[38;5;124mThe result is:\u001b[39m\u001b[38;5;124m\"\u001b[39m, result)\n",
      "\u001b[0;31mZeroDivisionError\u001b[0m: division by zero"
     ]
    }
   ],
   "source": [
    "num1 = int(input(\"Enter a number: \"))\n",
    "num2 = int(input(\"Enter another number: \"))\n",
    "result = num1 / num2\n",
    "print(\"The result is:\", result)"
   ]
  },
  {
   "cell_type": "markdown",
   "id": "4e1a9980-679b-4d87-a999-ead9db159643",
   "metadata": {},
   "source": [
    "In this code, if the user enters 0 as the second number, a ZeroDivisionError exception will be raised because dividing by zero is not allowed in Python. If this exception is not handled, the program will terminate with the following error message:"
   ]
  },
  {
   "cell_type": "markdown",
   "id": "a9a03f61-38a1-4e94-9592-dad2f16dbbfb",
   "metadata": {},
   "source": [
    "## Q2. Which python statements are used to catch and handle? Explain with an example.\n",
    "\n",
    "Ans.:- In Python, the try and except statements are used to catch and handle exceptions. The try statement defines a block of code to be executed, and the except statement defines a block of code to be executed if an exception is raised in the try block.\n",
    "\n",
    "Here is an example of how to use try and except to catch and handle an exception:"
   ]
  },
  {
   "cell_type": "code",
   "execution_count": 2,
   "id": "eb8537e2-3da1-45ae-ad22-e6ffccabf423",
   "metadata": {},
   "outputs": [
    {
     "name": "stdin",
     "output_type": "stream",
     "text": [
      "Enter a number:  10\n",
      "Enter another number:  0\n"
     ]
    },
    {
     "name": "stdout",
     "output_type": "stream",
     "text": [
      "Error: You cannot divide by zero.\n"
     ]
    }
   ],
   "source": [
    "try:\n",
    "    num1 = int(input(\"Enter a number: \"))\n",
    "    num2 = int(input(\"Enter another number: \"))\n",
    "    result = num1 / num2\n",
    "    print(\"The result is:\", result)\n",
    "except ZeroDivisionError:\n",
    "    print(\"Error: You cannot divide by zero.\")"
   ]
  },
  {
   "cell_type": "markdown",
   "id": "94965bda-987f-405d-b30b-19cb10d2a750",
   "metadata": {},
   "source": [
    "As you can see, the program caught the exception and handled it gracefully, displaying an informative error message instead of crashing."
   ]
  },
  {
   "cell_type": "markdown",
   "id": "84426c77-eb7e-4a59-ba93-3f1f975649cc",
   "metadata": {},
   "source": [
    "## Q4.Explain with an example:\n",
    "a. try and else    \n",
    "b. finally    \n",
    "c. raise    \n",
    "## Ans.:-  a. try and else:\n",
    "In Python, you can use try and else statements together to define a block of code that should be executed if no exceptions are raised in the try block. The else block is executed after the try block, but only if no exceptions are raised. Here is an example:"
   ]
  },
  {
   "cell_type": "code",
   "execution_count": 4,
   "id": "42e79463-f184-4968-9bdf-55c312c659a6",
   "metadata": {},
   "outputs": [
    {
     "name": "stdin",
     "output_type": "stream",
     "text": [
      "Enter a number:  10\n",
      "Enter another number:  5\n"
     ]
    },
    {
     "name": "stdout",
     "output_type": "stream",
     "text": [
      "The result is: 2.0\n"
     ]
    }
   ],
   "source": [
    "try:\n",
    "    num1 = int(input(\"Enter a number: \"))\n",
    "    num2 = int(input(\"Enter another number: \"))\n",
    "    result = num1 / num2\n",
    "except ZeroDivisionError:\n",
    "    print(\"Error: You cannot divide by zero.\")\n",
    "else:\n",
    "    print(\"The result is:\", result)"
   ]
  },
  {
   "cell_type": "markdown",
   "id": "c7f76e7b-80b6-4390-8d75-530a08616fd8",
   "metadata": {},
   "source": [
    "## b. finally:\n",
    "\n",
    "The finally statement is used to define a block of code that should be executed regardless of whether an exception is raised or not. This block of code is typically used for cleanup tasks such as closing files or network connections. Here is an example:"
   ]
  },
  {
   "cell_type": "code",
   "execution_count": 5,
   "id": "8529d78a-4dc0-40e7-a968-36fae7b818d1",
   "metadata": {},
   "outputs": [
    {
     "name": "stdout",
     "output_type": "stream",
     "text": [
      "I want to become a Data ScientistData Science is a fascinating field\n"
     ]
    }
   ],
   "source": [
    "try:\n",
    "    file = open(\"example.txt\", \"r\")\n",
    "    data = file.read()\n",
    "    print(data)\n",
    "finally:\n",
    "    file.close()"
   ]
  },
  {
   "cell_type": "markdown",
   "id": "cc79cde5-226c-40d2-be80-2a8b84307d1f",
   "metadata": {},
   "source": [
    "## c. raise:\n",
    "\n",
    "The raise statement is used to raise an exception explicitly in Python. You can use it to indicate that something has gone wrong in your code and that an exception should be raised. Here is an example:"
   ]
  },
  {
   "cell_type": "code",
   "execution_count": 6,
   "id": "0ac2cf5e-345e-4c92-ba5b-68dde2a50a7c",
   "metadata": {},
   "outputs": [
    {
     "name": "stdin",
     "output_type": "stream",
     "text": [
      "Enter your age:  -21\n"
     ]
    },
    {
     "ename": "ValueError",
     "evalue": "Error: Age cannot be negative.",
     "output_type": "error",
     "traceback": [
      "\u001b[0;31m---------------------------------------------------------------------------\u001b[0m",
      "\u001b[0;31mValueError\u001b[0m                                Traceback (most recent call last)",
      "Cell \u001b[0;32mIn [6], line 3\u001b[0m\n\u001b[1;32m      1\u001b[0m age \u001b[38;5;241m=\u001b[39m \u001b[38;5;28mint\u001b[39m(\u001b[38;5;28minput\u001b[39m(\u001b[38;5;124m\"\u001b[39m\u001b[38;5;124mEnter your age: \u001b[39m\u001b[38;5;124m\"\u001b[39m))\n\u001b[1;32m      2\u001b[0m \u001b[38;5;28;01mif\u001b[39;00m age \u001b[38;5;241m<\u001b[39m \u001b[38;5;241m0\u001b[39m:\n\u001b[0;32m----> 3\u001b[0m     \u001b[38;5;28;01mraise\u001b[39;00m \u001b[38;5;167;01mValueError\u001b[39;00m(\u001b[38;5;124m\"\u001b[39m\u001b[38;5;124mError: Age cannot be negative.\u001b[39m\u001b[38;5;124m\"\u001b[39m)\n",
      "\u001b[0;31mValueError\u001b[0m: Error: Age cannot be negative."
     ]
    }
   ],
   "source": [
    "age = int(input(\"Enter your age: \"))\n",
    "if age < 0:\n",
    "    raise ValueError(\"Error: Age cannot be negative.\")"
   ]
  },
  {
   "cell_type": "markdown",
   "id": "1bedc89d-898a-47c9-a102-3b4d2eea0a9f",
   "metadata": {},
   "source": [
    "## Q5. What are Custom Exceptions in python? Why do we need Custom Exceptions? Explain with an example\n",
    "\n",
    "Ans.:- Custom exceptions in Python are user-defined exceptions that are created by inheriting from the built-in Exception class or one of its subclasses. These exceptions can be raised using the raise statement and can be caught and handled using the try and except statements like any other exception.\n",
    "\n",
    "We need custom exceptions in Python to handle specific errors or exceptional situations in our code. By defining our own exceptions, we can provide more informative error messages to users or developers and make our code more readable and maintainable.\n",
    "\n",
    "Here's an example of how to create a custom exception in Python:"
   ]
  },
  {
   "cell_type": "code",
   "execution_count": 2,
   "id": "8f7df0b0-ede9-4744-af2e-dff991565e2e",
   "metadata": {},
   "outputs": [
    {
     "name": "stdin",
     "output_type": "stream",
     "text": [
      "Enter your age:  -21\n"
     ]
    },
    {
     "ename": "InvalidInputException",
     "evalue": "Error: Age cannot be negative.",
     "output_type": "error",
     "traceback": [
      "\u001b[0;31m---------------------------------------------------------------------------\u001b[0m",
      "\u001b[0;31mInvalidInputException\u001b[0m                     Traceback (most recent call last)",
      "Cell \u001b[0;32mIn [2], line 7\u001b[0m\n\u001b[1;32m      5\u001b[0m age \u001b[38;5;241m=\u001b[39m \u001b[38;5;28mint\u001b[39m(\u001b[38;5;28minput\u001b[39m(\u001b[38;5;124m\"\u001b[39m\u001b[38;5;124mEnter your age: \u001b[39m\u001b[38;5;124m\"\u001b[39m))\n\u001b[1;32m      6\u001b[0m \u001b[38;5;28;01mif\u001b[39;00m age \u001b[38;5;241m<\u001b[39m \u001b[38;5;241m0\u001b[39m:\n\u001b[0;32m----> 7\u001b[0m     \u001b[38;5;28;01mraise\u001b[39;00m InvalidInputException(\u001b[38;5;124m\"\u001b[39m\u001b[38;5;124mError: Age cannot be negative.\u001b[39m\u001b[38;5;124m\"\u001b[39m)\n",
      "\u001b[0;31mInvalidInputException\u001b[0m: Error: Age cannot be negative."
     ]
    }
   ],
   "source": [
    "class InvalidInputException(Exception):\n",
    "    def __init__(self, message):\n",
    "        super().__init__(message)\n",
    "\n",
    "age = int(input(\"Enter your age: \"))\n",
    "if age < 0:\n",
    "    raise InvalidInputException(\"Error: Age cannot be negative.\")"
   ]
  },
  {
   "cell_type": "markdown",
   "id": "9dddf843-8b67-4885-af0c-1e855e11be8f",
   "metadata": {},
   "source": [
    "In the main code block, we ask the user to enter their age and check if the age is negative. If the age is negative, we raise an InvalidInputException with a custom error message. The exception can be caught and handled using the try and except statements, like this:"
   ]
  },
  {
   "cell_type": "code",
   "execution_count": 3,
   "id": "38613624-bf8e-40c8-ad8e-df5184c2d512",
   "metadata": {},
   "outputs": [
    {
     "name": "stdin",
     "output_type": "stream",
     "text": [
      "Enter your age:  -21\n"
     ]
    },
    {
     "name": "stdout",
     "output_type": "stream",
     "text": [
      "Error: Age cannot be negative.\n"
     ]
    }
   ],
   "source": [
    "try:\n",
    "    age = int(input(\"Enter your age: \"))\n",
    "    if age < 0:\n",
    "        raise InvalidInputException(\"Error: Age cannot be negative.\")\n",
    "except InvalidInputException as e:\n",
    "    print(e)"
   ]
  },
  {
   "cell_type": "markdown",
   "id": "46418aec-1548-4200-9024-82253fd04b5a",
   "metadata": {},
   "source": [
    "## Q6. Creat a custom exception class. Use this class to handle an exception.\n",
    "\n",
    "Ans.:- "
   ]
  },
  {
   "cell_type": "code",
   "execution_count": 4,
   "id": "4f8146a4-db36-48b1-b7f2-763b02be8b46",
   "metadata": {},
   "outputs": [
    {
     "name": "stdin",
     "output_type": "stream",
     "text": [
      "Enter a number:  -5\n"
     ]
    },
    {
     "name": "stdout",
     "output_type": "stream",
     "text": [
      "Error: Number cannot be negative.\n"
     ]
    }
   ],
   "source": [
    "class NegativeNumberException(Exception):\n",
    "    def __init__(self, message):\n",
    "        super().__init__(message)\n",
    "\n",
    "def calculate_square(num):\n",
    "    if num < 0:\n",
    "        raise NegativeNumberException(\"Error: Number cannot be negative.\")\n",
    "    return num * num\n",
    "\n",
    "try:\n",
    "    num = int(input(\"Enter a number: \"))\n",
    "    result = calculate_square(num)\n",
    "    print(\"The square of\", num, \"is\", result)\n",
    "except NegativeNumberException as e:\n",
    "    print(e)"
   ]
  }
 ],
 "metadata": {
  "kernelspec": {
   "display_name": "Python 3 (ipykernel)",
   "language": "python",
   "name": "python3"
  },
  "language_info": {
   "codemirror_mode": {
    "name": "ipython",
    "version": 3
   },
   "file_extension": ".py",
   "mimetype": "text/x-python",
   "name": "python",
   "nbconvert_exporter": "python",
   "pygments_lexer": "ipython3",
   "version": "3.10.6"
  }
 },
 "nbformat": 4,
 "nbformat_minor": 5
}
