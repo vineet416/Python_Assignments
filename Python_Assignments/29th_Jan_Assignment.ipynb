{
 "cells": [
  {
   "cell_type": "markdown",
   "id": "d65c006d-7273-409a-bb18-5de867e44a93",
   "metadata": {},
   "source": [
    "## Python Assignment (29th Jan 2023)"
   ]
  },
  {
   "cell_type": "markdown",
   "id": "886577a8-0373-4865-ae2a-570ff9b28818",
   "metadata": {},
   "source": [
    "## 1. Who developed Python Programming Language?\n",
    "Ans.:- Guido van Rossum developed Python Programming Language."
   ]
  },
  {
   "cell_type": "markdown",
   "id": "d8c7a5df-533e-44e9-bb71-62fdffcdf243",
   "metadata": {},
   "source": [
    "## 2. Which type of Programming does Python support?\n",
    "Ans.:- Python supports multiple programming paradigms, including Procedural programming, Object-oriented programming, Functional programming, Scripting, Web development, Data analysis and scientific computing."
   ]
  },
  {
   "cell_type": "markdown",
   "id": "cdeb8b56-d2e9-466c-b6d0-f100204e7917",
   "metadata": {},
   "source": [
    "## 3. is python case sensitive language when dealing with identifiers?\n",
    "Ans.:- Yes, Python is a case-sensitive language when it comes to identifiers such as variable names, function names, and class names."
   ]
  },
  {
   "cell_type": "markdown",
   "id": "68ec7d9d-2390-4f46-b18f-1e244f93bed7",
   "metadata": {},
   "source": [
    "## 4. What is the correct extension of the python file?\n",
    "\n",
    "Ans.:- The correct extension for a Python file is \".py\"."
   ]
  },
  {
   "cell_type": "markdown",
   "id": "67b7a53c-bd94-47c2-a993-20c0d6520a94",
   "metadata": {},
   "source": [
    "## 5. is python code complied of interpreted?\n",
    "Ans.:- Python is an interpreted language, which means that the Python interpreter executes the code directly, without first compiling it into machine code. When you run a Python script, the interpreter reads and interprets the code line-by-line, executing each instruction as it goes. This allows for faster development and easier debugging, but can result in slower performance compared to compiled languages. However, there are tools such as PyPy and Numba that can be used to optimize Python code performance."
   ]
  },
  {
   "cell_type": "markdown",
   "id": "5c860cb8-9a28-48f1-97fb-0443b89a90c0",
   "metadata": {},
   "source": [
    "## 6. Name a few blocks of code used to define in Python?\n",
    "\n",
    "Ans.:- Here are a few examples of blocks of code that are used to define various elements In a Python program.\n",
    "\n",
    "Function blocks: These are used to define reusable code that can be called from other parts of the program. Function blocks start with the \"def\" keyword, followed by the function name and a set of parentheses.\n",
    "\n",
    "Class blocks: These are used to define classes, which are a way of encapsulating data and behavior into objects. Class blocks start with the \"class\" keyword, followed by the class name and a colon.\n",
    "\n",
    "Conditional blocks: These are used to execute different code based on whether a certain condition is true or false. Conditional blocks in Python start with the \"if\" keyword, followed by a condition and a colon.\n",
    "\n",
    "Loop blocks: These are used to repeat a block of code a certain number of times or until a certain condition is met. Loop blocks in Python include the \"for\" loop and the \"while\" loop.\n",
    "\n",
    "Exception blocks: These are used to handle errors and other exceptional cases in a program. Exception blocks in Python start with the \"try\" keyword, followed by the code to be executed and one or more \"except\" blocks to handle specific exceptions."
   ]
  },
  {
   "cell_type": "markdown",
   "id": "909ce977-2396-4501-9744-0c296cbfba4f",
   "metadata": {},
   "source": [
    "## 7. State a character used to give single-line comments in Python?\n",
    "\n",
    "Ans.:- In Python, the hash (#) character is used to give single-line comments."
   ]
  },
  {
   "cell_type": "markdown",
   "id": "ebfa18ce-c80c-4ec3-9310-cb5bf247ff33",
   "metadata": {},
   "source": [
    "## 8. Mention functions which can help us to find the version of python that we are currently working on?\n",
    "\n",
    "Ans.:- Here are some functions that you can use to find out the version of the Python interpreter that you are currently working on. \n",
    "\n",
    "sys.version: This function returns a string that contains the version number of the Python interpreter, as well as additional information about the system and the build.\n",
    "\n",
    "platform.python_version(): This function returns the version number of the Python interpreter as a string.\n",
    "\n",
    "sys.version_info: This function returns a tuple that contains the major, minor, and micro version numbers of the Python interpreter."
   ]
  },
  {
   "cell_type": "markdown",
   "id": "709cf0c2-9250-4917-aa69-5cc74fbb9c91",
   "metadata": {},
   "source": [
    "## 9. Python supports the creation of anonymous functions at runtime, using a construct called __________\n",
    "\n",
    "Ans.:- lambda functions"
   ]
  },
  {
   "cell_type": "markdown",
   "id": "93ca7ee9-79b1-4dcf-bd8b-5b6a75a63e61",
   "metadata": {},
   "source": [
    "## 10. What does pip stand for python?\n",
    "\n",
    "Ans.:- PIP stands for \"Pip Installs Packages\". It is a package manager for Python that allows you to easily install and manage third-party packages or modules that are not part of the standard library. "
   ]
  },
  {
   "cell_type": "markdown",
   "id": "ee12e4e2-1f52-4664-88a7-9ea4c890cc27",
   "metadata": {},
   "source": [
    "## 11. Mention a few built-in functions in python?\n",
    "\n",
    "Ans.:- Here are a few examples of built-in functions in Python:\n",
    "\n",
    "1. print(): Used to display output on the console or terminal.\n",
    "\n",
    "2. len(): Used to get the length of an object such as a string, list, or tuple.\n",
    "\n",
    "3. type(): Used to get the data type of an object.\n",
    "\n",
    "4. range(): Used to generate a sequence of numbers.\n",
    "\n",
    "5. int(): Used to convert a string or float to an integer.\n",
    "\n",
    "6. str(): Used to convert a value to a string.\n",
    "\n",
    "7. input(): Used to get input from the user via the console.\n",
    "\n",
    "8. sum(): Used to get the sum of a sequence of numbers."
   ]
  },
  {
   "cell_type": "markdown",
   "id": "08edc9a2-6329-4076-afca-af85b3827dbf",
   "metadata": {},
   "source": [
    "## 12. What is the maximum possible length of an identifier in Python?\n",
    "\n",
    "Ans.:- The maximum possible length of an identifier in Python is not specified by the language itself, but it is determined by the maximum length of a string in Python, which is platform-dependent.\n",
    "In most implementations of Python, the maximum length of a string is typically around 231-1 or 263-1, depending on whether the implementation is 32-bit or 64-bit. "
   ]
  },
  {
   "cell_type": "markdown",
   "id": "37d5a7cf-a1dd-49f9-89ea-00ef23d2c161",
   "metadata": {},
   "source": [
    "## 13. What are the benefits of using Python?\n",
    "\n",
    "Ans.- There are many benefits to using Python as a programming language, including:\n",
    "1. Easy to learn\n",
    "2. Large standard library\n",
    "3. Strong community\n",
    "4. Great for data science and machine learning\n",
    "5. High-level language\n",
    "Overall, Python is a versatile and powerful language that can be used for a wide range of applications, from web development and automation to scientific computing and data analysis. Its simplicity, cross-platform compatibility, and strong community make it a popular choice for developers of all levels."
   ]
  },
  {
   "cell_type": "markdown",
   "id": "8db96f33-b01a-446e-862e-0f4f6c3816fe",
   "metadata": {},
   "source": [
    "## 14. How is memory managed in Python?\n",
    "\n",
    "Ans.:-Memory management in Python is handled automatically through a process called garbage collection. Garbage collection is the process of automatically freeing up memory that is no longer being used by the program. In Python, the garbage collector runs periodically in the background and frees up memory that is no longer needed by the program."
   ]
  },
  {
   "cell_type": "markdown",
   "id": "607f1b8b-c517-482a-81ce-4f47031bc25d",
   "metadata": {},
   "source": [
    "## 15. How to install Python on Windows and set path variabler?\n",
    "\n",
    "Ans.:-Here are the steps to install Python on Windows and set the path variable:\n",
    "\n",
    "1. Download the Python installer: Go to the official Python website (python.org) and download the latest version of Python for Windows. Choose the appropriate installer based on your system architecture (32-bit or 64-bit).\n",
    "\n",
    "2. Run the installer: Double-click the downloaded installer to run it. Follow the on-screen instructions to complete the installation.\n",
    "\n",
    "3. Add Python to the PATH variable: During the installation process, you will be asked whether you want to add Python to the PATH variable. If you select this option, Python will be added to the PATH automatically. If you didn't select this option during installation, you can add Python to the PATH manually.\n",
    "\n",
    "4. Manually add Python to the PATH variable: To add Python to the PATH manually, follow these steps:\n",
    "\n",
    "Open the Start menu and search for \"Environment Variables\"\n",
    "Click on \"Edit the system environment variables\"\n",
    "Click on the \"Environment Variables\" button\n",
    "Under \"System Variables\", find the \"Path\" variable and click \"Edit\"\n",
    "Click \"New\" and add the path to your Python installation directory (e.g. C:\\Python39)\n",
    "\n",
    "5. Verify the installation: Open a command prompt and type \"python --version\" to verify that Python is installed and the path variable is set correctly.\n",
    "\n",
    "That's it! Python is now installed on your Windows system and ready to use."
   ]
  },
  {
   "cell_type": "markdown",
   "id": "8a4b1769-de2b-4f7d-9efc-df197b1feeec",
   "metadata": {},
   "source": [
    "## 16. is indentation required in python?\n",
    "\n",
    "Ans.:-Yes, indentation is required in Python. In fact, indentation plays a critical role in Python syntax and is used to denote code blocks. In Python, code blocks are defined by their level of indentation, rather than by enclosing braces or keywords like in other programming languages.\n",
    "\n",
    "For example, in a function definition, the indented lines of code below the \"def\" statement are part of the function body. Similarly, in a loop or conditional statement, the indented lines of code below the \"for\", \"while\", \"if\", \"or\" \"else\" statements are executed as part of the loop or conditional block."
   ]
  }
 ],
 "metadata": {
  "kernelspec": {
   "display_name": "Python 3 (ipykernel)",
   "language": "python",
   "name": "python3"
  },
  "language_info": {
   "codemirror_mode": {
    "name": "ipython",
    "version": 3
   },
   "file_extension": ".py",
   "mimetype": "text/x-python",
   "name": "python",
   "nbconvert_exporter": "python",
   "pygments_lexer": "ipython3",
   "version": "3.10.6"
  }
 },
 "nbformat": 4,
 "nbformat_minor": 5
}
