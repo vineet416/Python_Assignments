{
 "cells": [
  {
   "cell_type": "markdown",
   "id": "d3169b3c-8e4a-4431-b387-3a3ae169a0a7",
   "metadata": {},
   "source": [
    "## Python Assignment Questions (5th-feb-2023)"
   ]
  },
  {
   "cell_type": "markdown",
   "id": "48c43c55-2405-4d5e-a9b7-d80924b98dec",
   "metadata": {},
   "source": [
    "## Q1. Explain Class and Object with respect to Object-Oriented Programming. Give a suitable example.\n",
    "\n",
    "Ans.:- In object-oriented programming, a class is a blueprint or template for creating objects of a certain type. It defines the data and behavior of the objects, as well as the rules that govern their interactions with other objects. An object is an instance of a class that has its own data and behavior.\n",
    "\n",
    "Let's take an example of a class and object to understand this better. Suppose we want to model a car in our program. We can create a class called Car that defines the attributes and methods of a car."
   ]
  },
  {
   "cell_type": "code",
   "execution_count": 21,
   "id": "1b2b1145-877d-402f-b8d4-19a2e397811a",
   "metadata": {},
   "outputs": [],
   "source": [
    "class Car:\n",
    "    def __init__(self, make, model, year, color):\n",
    "        self.make = make\n",
    "        self.model = model\n",
    "        self.year = year\n",
    "        self.color = color\n",
    "        self.speed = 0\n",
    "        \n",
    "    def start(self):\n",
    "        print(\"Starting the car...\")\n",
    "        \n",
    "    def stop(self):\n",
    "        print(\"Stopping the car...\")\n",
    "        \n",
    "    def accelerate(self):\n",
    "        self.speed += 10\n",
    "        print(f\"Accelerating the car to {self.speed} kmph...\")\n",
    "        \n",
    "    def brake(self):\n",
    "        self.speed -= 10\n",
    "        print(f\"Applying brakes. The car's speed is now {self.speed} kmph...\")"
   ]
  },
  {
   "cell_type": "code",
   "execution_count": 22,
   "id": "a178b8d3-c990-45f1-bdb3-bd1052931684",
   "metadata": {},
   "outputs": [],
   "source": [
    "my_car = Car(\"BMW\", \"i8\", 2022, \"Blue\")"
   ]
  },
  {
   "cell_type": "code",
   "execution_count": 23,
   "id": "1b53e527-1e57-4a99-a033-655a87b69271",
   "metadata": {},
   "outputs": [
    {
     "name": "stdout",
     "output_type": "stream",
     "text": [
      "Starting the car...\n",
      "Accelerating the car to 10 kmph...\n",
      "Accelerating the car to 20 kmph...\n",
      "Applying brakes. The car's speed is now 10 kmph...\n",
      "Stopping the car...\n"
     ]
    }
   ],
   "source": [
    "my_car.start()\n",
    "my_car.accelerate()\n",
    "my_car.accelerate()\n",
    "my_car.brake()\n",
    "my_car.stop()"
   ]
  },
  {
   "cell_type": "markdown",
   "id": "2a017051-006f-4687-bb88-942d9940052e",
   "metadata": {},
   "source": [
    "## Q2. Name the four pillars of OOPs.\n",
    "\n",
    "Ans.:- The four pillars of Object-Oriented Programming (OOPs) are:    \n",
    "1.Encapsulation: Encapsulation is the concept of wrapping data and methods into a single unit (i.e., a class) and controlling access to that unit through public and private access modifiers. It helps to hide the complexity of the code and prevent unauthorized access to the data.\n",
    "\n",
    "2.Inheritance: Inheritance is the concept of creating a new class from an existing class (i.e., a parent class) and inheriting the properties (i.e., attributes and methods) of the parent class. This helps to reuse code and create a hierarchy of classes.\n",
    "\n",
    "3.Polymorphism: Polymorphism is the concept of using a single interface to represent multiple forms. It allows objects of different classes to be treated as if they were of the same class, by implementing methods with the same name and signature in different classes.\n",
    "\n",
    "4.Abstraction: Abstraction is the concept of focusing on essential features and hiding unnecessary details. It involves creating abstract classes and interfaces that define the behavior of objects without specifying the implementation details. This helps to reduce complexity and improve maintainability."
   ]
  },
  {
   "cell_type": "markdown",
   "id": "62c6a62b-5aab-43cc-9057-af3ad9442fd0",
   "metadata": {},
   "source": [
    "## Q3. Explain why the __init__() function is used. Give a suitable example.\n",
    "\n",
    "Ans.:- The init() function (also known as a constructor) is used to initialize the attributes of an object when it is created. It is called automatically when an object is created from a class and is used to set the initial state of the object's attributes.\n",
    "\n",
    "For example, let's say we have a class called \"Person\" with two attributes, \"name\" and \"age\". We want to initialize these attributes when a new object is created from the class. We can do this using the init() function as follows:"
   ]
  },
  {
   "cell_type": "code",
   "execution_count": 13,
   "id": "40b0d692-5721-49a8-a4c8-9d2ed75b5179",
   "metadata": {},
   "outputs": [],
   "source": [
    "class Person:\n",
    "    def __init__(self, name, age):\n",
    "        self.name = name\n",
    "        self.age = age\n",
    "        \n",
    "    def introduce(self):\n",
    "        print(\"My name is \", self.name , \"and I am \", self.age, \" years old.\")"
   ]
  },
  {
   "cell_type": "code",
   "execution_count": 14,
   "id": "125b14a6-2e7b-498b-9e31-cd3bd354b89c",
   "metadata": {},
   "outputs": [],
   "source": [
    "person1 = Person(\"Vineet\", 21)"
   ]
  },
  {
   "cell_type": "code",
   "execution_count": 15,
   "id": "45db48f9-50d8-4dc4-8fad-9cfbeb9326ee",
   "metadata": {},
   "outputs": [
    {
     "name": "stdout",
     "output_type": "stream",
     "text": [
      "My name is  Vineet and I am  21  years old.\n"
     ]
    }
   ],
   "source": [
    "person1.introduce()"
   ]
  },
  {
   "cell_type": "markdown",
   "id": "bdfce34d-5dea-45ff-96ae-26c6e2a69ec3",
   "metadata": {},
   "source": [
    "## Q4. Why self is used in OOPs?\n",
    "\n",
    "Ans.:-  self is a reference to the instance of a class that is currently being operated on. It is used to access and manipulate the attributes and methods of an object within its own class.\n",
    "\n",
    "When a method is called on an object, the self parameter is automatically passed to the method by Python. By convention, the first parameter of a method in a class is always self."
   ]
  },
  {
   "cell_type": "markdown",
   "id": "ef66dff4-4ed1-4d7a-a12b-5ffab02c277a",
   "metadata": {},
   "source": [
    "## Q5. What is inheritance? Give an example for each type of inheritance.\n",
    "\n",
    "Ans.:- Inheritance is a fundamental concept in object-oriented programming (OOP) that allows a class to inherit properties (attributes and methods) of another class. The class that inherits properties is called the subclass or derived class, and the class that provides the properties is called the superclass or base class.\n",
    "\n",
    "There are four types of inheritance in Python:\n",
    "1. Single Inheritance: In this type of inheritance, a subclass inherits properties from a single superclass.   \n",
    "Example:"
   ]
  },
  {
   "cell_type": "code",
   "execution_count": 16,
   "id": "eb676413-e6a7-4b7e-b2e3-add9d0fa17f2",
   "metadata": {},
   "outputs": [],
   "source": [
    "class Animal:\n",
    "    def __init__(self, name):\n",
    "        self.name = name\n",
    "    \n",
    "    def sound(self):\n",
    "        pass\n",
    "\n",
    "class Dog(Animal):\n",
    "    def __init__(self, name):\n",
    "        super().__init__(name)\n",
    "        \n",
    "    def sound(self):\n",
    "        return \"Woof\""
   ]
  },
  {
   "cell_type": "markdown",
   "id": "3e5a53ba-b10a-4ee0-8166-ecbb9281be37",
   "metadata": {},
   "source": [
    "2. Multiple Inheritance: In this type of inheritance, a subclass inherits properties from multiple superclasses.   \n",
    "Example:"
   ]
  },
  {
   "cell_type": "code",
   "execution_count": 17,
   "id": "0db47ea6-d29e-4143-b6a9-c653652eb8f7",
   "metadata": {},
   "outputs": [],
   "source": [
    "class Employee:\n",
    "    def __init__(self, name, salary):\n",
    "        self.name = name\n",
    "        self.salary = salary\n",
    "\n",
    "class Manager(Employee):\n",
    "    def __init__(self, name, salary, department):\n",
    "        super().__init__(name, salary)\n",
    "        self.department = department\n",
    "\n",
    "class SalesPerson(Employee):\n",
    "    def __init__(self, name, salary, sales):\n",
    "        super().__init__(name, salary)\n",
    "        self.sales = sales\n",
    "\n",
    "class SalesManager(Manager, SalesPerson):\n",
    "    def __init__(self, name, salary, department, sales):\n",
    "        Manager.__init__(self, name, salary, department)\n",
    "        SalesPerson.__init__(self, name, salary, sales)"
   ]
  },
  {
   "cell_type": "markdown",
   "id": "b36f072d-3799-4a98-8953-696286b7adc2",
   "metadata": {},
   "source": [
    "3. Hierarchical Inheritance: In this type of inheritance, a superclass is inherited by multiple subclasses.   \n",
    "Example:"
   ]
  },
  {
   "cell_type": "code",
   "execution_count": 18,
   "id": "291bad96-1636-435b-bee9-1c650ae4650e",
   "metadata": {},
   "outputs": [],
   "source": [
    "class Animal:\n",
    "    def __init__(self, name):\n",
    "        self.name = name\n",
    "    \n",
    "    def sound(self):\n",
    "        pass\n",
    "\n",
    "class Dog(Animal):\n",
    "    def __init__(self, name):\n",
    "        super().__init__(name)\n",
    "        \n",
    "    def sound(self):\n",
    "        return \"Woof\"\n",
    "\n",
    "class Cat(Animal):\n",
    "    def __init__(self, name):\n",
    "        super().__init__(name)\n",
    "        \n",
    "    def sound(self):\n",
    "        return \"Meow\""
   ]
  },
  {
   "cell_type": "markdown",
   "id": "5cd44542-a1d9-454c-8e85-01b13cf3c27b",
   "metadata": {},
   "source": [
    "4. Multilevel Inheritance: In this type of inheritance, a subclass inherits properties from a superclass, which in turn inherits properties from another superclass.   \n",
    "Example"
   ]
  },
  {
   "cell_type": "code",
   "execution_count": 19,
   "id": "5cb57179-8a5a-40fc-8ead-ba9f3ce9029c",
   "metadata": {},
   "outputs": [],
   "source": [
    "class Animal:\n",
    "    def __init__(self, species):\n",
    "        self.species = species\n",
    "    \n",
    "    def eat(self):\n",
    "        print(\"The animal is eating.\")\n",
    "\n",
    "class Mammal(Animal):\n",
    "    def __init__(self, species, is_domestic):\n",
    "        super().__init__(species)\n",
    "        self.is_domestic = is_domestic\n",
    "    \n",
    "    def give_birth(self):\n",
    "        print(\"The mammal is giving birth.\")\n",
    "\n",
    "class Dog(Mammal):\n",
    "    def __init__(self, breed, is_domestic):\n",
    "        super().__init__(\"Canine\", is_domestic)\n",
    "        self.breed = breed\n",
    "    \n",
    "    def bark(self):\n",
    "        print(\"The dog is barking.\")"
   ]
  }
 ],
 "metadata": {
  "kernelspec": {
   "display_name": "Python 3 (ipykernel)",
   "language": "python",
   "name": "python3"
  },
  "language_info": {
   "codemirror_mode": {
    "name": "ipython",
    "version": 3
   },
   "file_extension": ".py",
   "mimetype": "text/x-python",
   "name": "python",
   "nbconvert_exporter": "python",
   "pygments_lexer": "ipython3",
   "version": "3.10.6"
  }
 },
 "nbformat": 4,
 "nbformat_minor": 5
}
