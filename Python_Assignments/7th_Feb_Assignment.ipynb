{
 "cells": [
  {
   "cell_type": "markdown",
   "id": "d3bd2d36-a5a5-4130-bd3b-99861205271f",
   "metadata": {},
   "source": [
    "## Python Assignment Questions (7th-Feb-2023)"
   ]
  },
  {
   "cell_type": "markdown",
   "id": "c4385a8b-8b89-4bbd-9840-ca8a77b41af3",
   "metadata": {},
   "source": [
    "## Q1. You are writing code for a company. The requirement of the company is that you create a python function that will check whether the password entered by the user is correct or not. The function should take the password as input and return the string “Valid Password” if the entered password follows the below-given password guidelines else it should return “Invalid Password”.\n",
    "Note: 1. The Password should contain at least two uppercase letters and at least two lowercase letters.   \n",
    "2. The Password should contain at least a number and three special characters.    \n",
    "3. The length of the password should be 10 characters long."
   ]
  },
  {
   "cell_type": "code",
   "execution_count": 1,
   "id": "ed907863-df65-4d7a-b600-8f063998eb6d",
   "metadata": {},
   "outputs": [
    {
     "name": "stdin",
     "output_type": "stream",
     "text": [
      "Enter your password VinPat1@@@\n"
     ]
    },
    {
     "name": "stdout",
     "output_type": "stream",
     "text": [
      "Valid Password\n"
     ]
    }
   ],
   "source": [
    "import re\n",
    "\n",
    "password = input(\"Enter your password\")\n",
    "def check_password(password):\n",
    "    # Check length of password\n",
    "    if len(password) != 10:\n",
    "        return \"Invalid Password\"\n",
    "    # Check for uppercase letters\n",
    "    if len(re.findall(r'[A-Z]', password)) < 2:\n",
    "        return \"Invalid Password\"\n",
    "    # Check for lowercase letters\n",
    "    if len(re.findall(r'[a-z]', password)) < 2:\n",
    "        return \"Invalid Password\"\n",
    "    # Check for digits\n",
    "    if len(re.findall(r'\\d', password)) < 1:\n",
    "        return \"Invalid Password\"\n",
    "    # Check for special characters\n",
    "    if len(re.findall(r'[^\\w\\s]', password)) < 3:\n",
    "        return \"Invalid Password\"\n",
    "    # If all conditions are met, return \"Valid Password\"\n",
    "    return \"Valid Password\"\n",
    "\n",
    "result = check_password(password)\n",
    "print(result)"
   ]
  },
  {
   "cell_type": "markdown",
   "id": "f1e44536-66d3-4b9e-97ba-15a8aee04c54",
   "metadata": {},
   "source": [
    "## Q2. Solve the below-given questions using at least one of the following:\n",
    "1. Lambda function\n",
    "2. Filter function\n",
    "3. Zap function\n",
    "4. List Comprehension   \n",
    "\n",
    "- Check if the string starts with a particular letter.    \n",
    "- Check if the string is numeric.    \n",
    "- Sort a list of tuples having fruit names and their quantity.      \n",
    "[(\"mango\",99),(\"orange\",80), (\"grapes\", 1000)]   \n",
    "- Find the squares of numbers from 1 to 10.    \n",
    "- Find the cube root of numbers from 1 to 10.   \n",
    "- Check if a given number is even.    \n",
    "- Filter odd numbers from the given list.     \n",
    "[1,2,3,4,5,6,7,8,9,10]     \n",
    "- Sort a list of integers into positive and negative integers lists.     \n",
    "[1,2,3,4,5,6,-1,-2,-3,-4,-5,0]"
   ]
  },
  {
   "cell_type": "markdown",
   "id": "033877f2-7dc3-43b0-981d-588734983d74",
   "metadata": {},
   "source": [
    "# Ans.:- 1] Using Lambda function \n",
    "# 1. Check if the string starts with a particular letter    \n",
    "Using lambda function and startswith() method:"
   ]
  },
  {
   "cell_type": "code",
   "execution_count": 3,
   "id": "7cd68fa3-5723-4bce-bb31-2debfad616f4",
   "metadata": {},
   "outputs": [
    {
     "name": "stdout",
     "output_type": "stream",
     "text": [
      "False\n"
     ]
    }
   ],
   "source": [
    "check_starts_with = lambda string, letter: string.startswith(letter)\n",
    "\n",
    "print(check_starts_with(\"Vineet\", \"P\"))"
   ]
  },
  {
   "cell_type": "code",
   "execution_count": 4,
   "id": "2ecc24ea-6bd9-4ad8-9909-6a30a1db304b",
   "metadata": {},
   "outputs": [
    {
     "name": "stdout",
     "output_type": "stream",
     "text": [
      "True\n"
     ]
    }
   ],
   "source": [
    "print(check_starts_with(\"Patel\", \"P\"))"
   ]
  },
  {
   "cell_type": "markdown",
   "id": "6dbd2988-51db-4556-92be-0500d7d25df4",
   "metadata": {},
   "source": [
    "# 2. Check if the string is numeric    \n",
    "Using lambda function and isnumeric() method"
   ]
  },
  {
   "cell_type": "code",
   "execution_count": 5,
   "id": "54e28f15-a3a1-4ad8-a702-db88627aab24",
   "metadata": {},
   "outputs": [
    {
     "name": "stdout",
     "output_type": "stream",
     "text": [
      "True\n"
     ]
    }
   ],
   "source": [
    "check_numeric = lambda string: string.isnumeric()\n",
    "\n",
    "print(check_numeric(\"12345\"))"
   ]
  },
  {
   "cell_type": "code",
   "execution_count": 6,
   "id": "2af5d614-0822-4c6a-a3fe-be2daf94191e",
   "metadata": {},
   "outputs": [
    {
     "name": "stdout",
     "output_type": "stream",
     "text": [
      "False\n"
     ]
    }
   ],
   "source": [
    "print(check_numeric(\"1a2b3c\"))"
   ]
  },
  {
   "cell_type": "markdown",
   "id": "2251bcfa-2a4b-421e-9e47-a3b60a9b4694",
   "metadata": {},
   "source": [
    "# 3. Sort a list of tuples having fruit names and their quantity    \n",
    "Using lambda function and sorted() method"
   ]
  },
  {
   "cell_type": "code",
   "execution_count": 7,
   "id": "0a5ae087-74b2-4651-b013-7cfaa69add46",
   "metadata": {},
   "outputs": [
    {
     "name": "stdout",
     "output_type": "stream",
     "text": [
      "[('orange', 80), ('mango', 99), ('grapes', 1000)]\n"
     ]
    }
   ],
   "source": [
    "fruits = [(\"mango\", 99), (\"orange\", 80), (\"grapes\", 1000)]\n",
    "sorted_fruits = sorted(fruits, key=lambda x: x[1])\n",
    "\n",
    "print(sorted_fruits)"
   ]
  },
  {
   "cell_type": "markdown",
   "id": "07c073bc-63fe-4d5d-8be6-9d47de7625cb",
   "metadata": {},
   "source": [
    "Find the squares of numbers from 1 to 10\n",
    "Using list comprehension"
   ]
  },
  {
   "cell_type": "code",
   "execution_count": 9,
   "id": "0ea200f1-f418-477a-afef-87d97fd51975",
   "metadata": {},
   "outputs": [
    {
     "name": "stdout",
     "output_type": "stream",
     "text": [
      "[1, 4, 9, 16, 25, 36, 49, 64, 81, 100]\n"
     ]
    }
   ],
   "source": [
    "squares = [x**2 for x in range(1, 11)]\n",
    "\n",
    "print(squares)"
   ]
  },
  {
   "cell_type": "markdown",
   "id": "fe876a99-962c-495f-8011-9cacb8a6e17c",
   "metadata": {},
   "source": [
    "# 4. Find the cube root of numbers from 1 to 10    \n",
    "Using list comprehension and math.pow() method"
   ]
  },
  {
   "cell_type": "code",
   "execution_count": 17,
   "id": "8b3fb304-6942-40fb-81f5-46ac41b7b25e",
   "metadata": {},
   "outputs": [
    {
     "name": "stdout",
     "output_type": "stream",
     "text": [
      "[1.0, 1.2599210498948732, 1.4422495703074083, 1.5874010519681994, 1.7099759466766968, 1.8171205928321397, 1.912931182772389, 2.0, 2.080083823051904, 2.154434690031884]\n"
     ]
    }
   ],
   "source": [
    "import math\n",
    "\n",
    "cube_roots = [math.pow(x, 1/3) for x in range(1, 11)]\n",
    "\n",
    "print(cube_roots)"
   ]
  },
  {
   "cell_type": "markdown",
   "id": "4e23a916-d97d-4b7c-bd56-1a707cdeabbb",
   "metadata": {},
   "source": [
    "# 5. Check if a given number is even    \n",
    "Using lambda function and modulo operator"
   ]
  },
  {
   "cell_type": "code",
   "execution_count": 12,
   "id": "e9590dae-26cf-4fa0-95aa-7712efe3f538",
   "metadata": {},
   "outputs": [
    {
     "name": "stdout",
     "output_type": "stream",
     "text": [
      "True\n"
     ]
    }
   ],
   "source": [
    "check_even = lambda num: num % 2 == 0\n",
    "\n",
    "print(check_even(4))"
   ]
  },
  {
   "cell_type": "code",
   "execution_count": 13,
   "id": "1ad8c443-bd04-43c9-84cb-060801cc39db",
   "metadata": {},
   "outputs": [
    {
     "name": "stdout",
     "output_type": "stream",
     "text": [
      "False\n"
     ]
    }
   ],
   "source": [
    "print(check_even(3))"
   ]
  },
  {
   "cell_type": "markdown",
   "id": "3c3465f9-cdb4-4306-b2ab-c5baebea33e5",
   "metadata": {},
   "source": [
    "# 6. Filter odd numbers from the given list    \n",
    "Using filter function and lambda function:"
   ]
  },
  {
   "cell_type": "code",
   "execution_count": 14,
   "id": "e757299a-78c4-4ca3-8f05-df6502212931",
   "metadata": {},
   "outputs": [
    {
     "name": "stdout",
     "output_type": "stream",
     "text": [
      "[1, 3, 5, 7, 9]\n"
     ]
    }
   ],
   "source": [
    "numbers = [1, 2, 3, 4, 5, 6, 7, 8, 9, 10]\n",
    "odd_numbers = list(filter(lambda x: x % 2 != 0, numbers))\n",
    "\n",
    "print(odd_numbers)"
   ]
  },
  {
   "cell_type": "markdown",
   "id": "cbbe4996-8c74-470d-9162-4b8ffb5e5d60",
   "metadata": {},
   "source": [
    "# 7. Sort a list of integers into positive and negative integers lists    \n",
    "Using list comprehension:"
   ]
  },
  {
   "cell_type": "code",
   "execution_count": 15,
   "id": "6dc67026-04a5-41f4-a921-f8bd6af1409b",
   "metadata": {},
   "outputs": [
    {
     "name": "stdout",
     "output_type": "stream",
     "text": [
      "[1, 2, 3, 4, 5, 6]\n"
     ]
    }
   ],
   "source": [
    "numbers = [1, 2, 3, 4, 5, 6, -1, -2, -3, -4, -5, 0]\n",
    "positive_numbers = [x for x in numbers if x > 0]\n",
    "negative_numbers = [x for x in numbers if x < 0]\n",
    "\n",
    "print(positive_numbers)"
   ]
  },
  {
   "cell_type": "code",
   "execution_count": 16,
   "id": "b1bc2a6d-e246-4ada-8f27-0bf33e9ea5c6",
   "metadata": {},
   "outputs": [
    {
     "name": "stdout",
     "output_type": "stream",
     "text": [
      "[-1, -2, -3, -4, -5]\n"
     ]
    }
   ],
   "source": [
    "print(negative_numbers)"
   ]
  }
 ],
 "metadata": {
  "kernelspec": {
   "display_name": "Python 3 (ipykernel)",
   "language": "python",
   "name": "python3"
  },
  "language_info": {
   "codemirror_mode": {
    "name": "ipython",
    "version": 3
   },
   "file_extension": ".py",
   "mimetype": "text/x-python",
   "name": "python",
   "nbconvert_exporter": "python",
   "pygments_lexer": "ipython3",
   "version": "3.10.6"
  }
 },
 "nbformat": 4,
 "nbformat_minor": 5
}
