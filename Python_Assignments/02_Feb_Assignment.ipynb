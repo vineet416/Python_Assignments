{
 "cells": [
  {
   "cell_type": "markdown",
   "id": "72db6127-6dc0-47fd-97c6-c8e9262ec6f7",
   "metadata": {},
   "source": [
    "## Python Assignment Questions (2nd Feb 2023)"
   ]
  },
  {
   "cell_type": "markdown",
   "id": "35aff310-b7dc-4f35-ae17-00683dd8cef9",
   "metadata": {},
   "source": [
    "## Q1. Explain with an example each when to use a for loop and while loop.\n",
    "\n",
    "## Ans.:- 1. When to use a for loop:\n",
    "1. When you need to iterate over a sequence of elements such as a list, tuple, or string. For example:"
   ]
  },
  {
   "cell_type": "code",
   "execution_count": 9,
   "id": "72ced600-dc81-49f0-86ad-3dee5efdec23",
   "metadata": {},
   "outputs": [
    {
     "name": "stdout",
     "output_type": "stream",
     "text": [
      "V\n",
      "i\n",
      "n\n",
      "e\n",
      "e\n",
      "t\n"
     ]
    }
   ],
   "source": [
    "# Iterate over a string and print each character\n",
    "name = \"Vineet\"\n",
    "for char in name:\n",
    "    print(char)"
   ]
  },
  {
   "cell_type": "markdown",
   "id": "f81b0a36-f797-458a-a368-26bc352f499c",
   "metadata": {},
   "source": [
    "2. When you need to perform a fixed number of iterations. For example, to Print the even number in the range of 1 to 11"
   ]
  },
  {
   "cell_type": "code",
   "execution_count": 11,
   "id": "b36c7560-4d10-4d4a-b880-0dad0e0e58e4",
   "metadata": {},
   "outputs": [
    {
     "name": "stdout",
     "output_type": "stream",
     "text": [
      "2\n",
      "4\n",
      "6\n",
      "8\n",
      "10\n"
     ]
    }
   ],
   "source": [
    "# Print the even number in the range of 1 to 11\n",
    "for i in range(1, 11):\n",
    "    if i % 2 == 0:\n",
    "        print(i)"
   ]
  },
  {
   "cell_type": "markdown",
   "id": "d6ebd8a7-7697-4572-93cd-9c966051f819",
   "metadata": {},
   "source": [
    "## 2. When to use a while loop:\n",
    "1. When you need to perform iterations until the user inputs a certain value. For example, to ask the user to input a number until they input \"quit\":"
   ]
  },
  {
   "cell_type": "code",
   "execution_count": 13,
   "id": "a7f742a8-1f9d-4bbe-87c1-06787c09f5c9",
   "metadata": {},
   "outputs": [
    {
     "name": "stdin",
     "output_type": "stream",
     "text": [
      "Enter a number (or 'quit' to exit):  3\n"
     ]
    },
    {
     "name": "stdout",
     "output_type": "stream",
     "text": [
      "You entered: 3\n"
     ]
    },
    {
     "name": "stdin",
     "output_type": "stream",
     "text": [
      "Enter a number (or 'quit' to exit):  2\n"
     ]
    },
    {
     "name": "stdout",
     "output_type": "stream",
     "text": [
      "You entered: 2\n"
     ]
    },
    {
     "name": "stdin",
     "output_type": "stream",
     "text": [
      "Enter a number (or 'quit' to exit):  1\n"
     ]
    },
    {
     "name": "stdout",
     "output_type": "stream",
     "text": [
      "You entered: 1\n"
     ]
    },
    {
     "name": "stdin",
     "output_type": "stream",
     "text": [
      "Enter a number (or 'quit' to exit):  0\n"
     ]
    }
   ],
   "source": [
    "# Ask the user to input a number until they input \"quit\"\n",
    "while True:\n",
    "    user_input = input(\"Enter a number (or 'quit' to exit): \")\n",
    "    if user_input == \"0\":\n",
    "        break\n",
    "    else:\n",
    "        num = int(user_input)\n",
    "        print(\"You entered:\", num)"
   ]
  },
  {
   "cell_type": "markdown",
   "id": "9b6e6c01-9a0f-478e-848a-9d8de9886ff1",
   "metadata": {},
   "source": [
    "2. When you need to perform iterations until a certain condition is met, but you don't know the exact number of iterations in advance. For example, to Calculate the factorial of a number using a while loop :"
   ]
  },
  {
   "cell_type": "code",
   "execution_count": 17,
   "id": "7d244dba-0739-4027-9ead-11feea9e2168",
   "metadata": {},
   "outputs": [
    {
     "name": "stdout",
     "output_type": "stream",
     "text": [
      "Factorial of 5 is 120\n"
     ]
    }
   ],
   "source": [
    "n = 5\n",
    "factorial = 1\n",
    "while n > 0:\n",
    "    factorial = factorial * n\n",
    "    n = n - 1\n",
    "    \n",
    "print(\"Factorial of 5 is\", factorial)"
   ]
  },
  {
   "cell_type": "markdown",
   "id": "ed5886ea-9260-45e3-b8a2-7d4bf80b49c2",
   "metadata": {},
   "source": [
    "## Q2. Write a python program to print the sum and product of the first 10 natural numbers using for and while loop."
   ]
  },
  {
   "cell_type": "code",
   "execution_count": 2,
   "id": "557db978-c170-4f2e-827f-163a48731e53",
   "metadata": {},
   "outputs": [
    {
     "name": "stdout",
     "output_type": "stream",
     "text": [
      "Sum of first 10 natural numbers: 55\n",
      "Product of first 10 natural numbers: 3628800\n"
     ]
    }
   ],
   "source": [
    "# sum of first 10 natural numbers using for loop\n",
    "sum = 0\n",
    "for i in range(1, 11):\n",
    "    sum = sum + i\n",
    "print(\"Sum of first 10 natural numbers:\", sum)\n",
    "\n",
    "# product of first 10 natural numbers using for loop\n",
    "product = 1\n",
    "for i in range(1, 11):\n",
    "    product = product * i\n",
    "print(\"Product of first 10 natural numbers:\", product)"
   ]
  },
  {
   "cell_type": "markdown",
   "id": "00d07fef-b02e-49b9-b91d-f3211346fcef",
   "metadata": {},
   "source": [
    "## 3. Create a python program to compute the electricity bill for a household.\n",
    "the per-unit charges in rupees are as follows: for the first 100 units, the user will be charged Rs. 4.5 per unit, for the next 100 units, the user will be charged Rs. 6 per unit, and for the next 100 units, the user will be charged Rs. 10 per unit, After 300 units and above the user will be charged Rs.20 per unit.\n",
    "You are required to take the units of electricity counsumed in a month from the user as input."
   ]
  },
  {
   "cell_type": "code",
   "execution_count": 1,
   "id": "e196172d-8341-4a43-8fb8-4e3997dd708e",
   "metadata": {},
   "outputs": [
    {
     "name": "stdin",
     "output_type": "stream",
     "text": [
      "Enter the number of units consumed:  350\n"
     ]
    },
    {
     "name": "stdout",
     "output_type": "stream",
     "text": [
      "Electricity bill: Rs. 3050.0\n"
     ]
    }
   ],
   "source": [
    "units = int(input(\"Enter the number of units consumed: \"))\n",
    "total = 0\n",
    "\n",
    "if units <= 100:\n",
    "    total = units * 4.5\n",
    "elif units <= 200:\n",
    "    total = (100 * 4.5) + ((units - 100) * 6)\n",
    "elif units <= 300:\n",
    "    total = (100 * 4.5) + (100 * 6) + ((units - 200) * 10)\n",
    "else:\n",
    "    total = (100 * 4.5) + (100 * 6) + (100 * 10) + ((units - 300) * 20)\n",
    "\n",
    "print(\"Electricity bill: Rs.\", total)"
   ]
  },
  {
   "cell_type": "markdown",
   "id": "7acf477f-6fa5-494e-9664-02d9c898aabf",
   "metadata": {},
   "source": [
    "## Q4. Creat a list of numbers from 1 to 100. Use for loop and while loop to calculate the cube of each number ane if the cube of that number is divisible by 4 or 5 then append that number in a list and print that list."
   ]
  },
  {
   "cell_type": "code",
   "execution_count": 17,
   "id": "890529b9-6cdf-4545-9325-b65193ce8b57",
   "metadata": {},
   "outputs": [
    {
     "name": "stdout",
     "output_type": "stream",
     "text": [
      "List of numbers whose cube is divisible by 4 or 5 (using for loop):\n",
      "[2, 4, 5, 6, 8, 10, 12, 14, 15, 16, 18, 20, 22, 24, 25, 26, 28, 30, 32, 34, 35, 36, 38, 40, 42, 44, 45, 46, 48, 50, 52, 54, 55, 56, 58, 60, 62, 64, 65, 66, 68, 70, 72, 74, 75, 76, 78, 80, 82, 84, 85, 86, 88, 90, 92, 94, 95, 96, 98, 100]\n"
     ]
    }
   ],
   "source": [
    "# Using for loop:\n",
    "\n",
    "cubes_list = []\n",
    "for num in range(1, 101):\n",
    "    cube = num ** 3\n",
    "    if cube % 4 == 0 or cube % 5 == 0:\n",
    "        cubes_list.append(num)\n",
    "print(\"List of numbers whose cube is divisible by 4 or 5 (using for loop):\",)\n",
    "print(cubes_list)"
   ]
  },
  {
   "cell_type": "code",
   "execution_count": 2,
   "id": "8a9359c2-5948-432e-9262-fbee3fdb0eeb",
   "metadata": {},
   "outputs": [
    {
     "name": "stdout",
     "output_type": "stream",
     "text": [
      "List of numbers whose cube is divisible by 4 or 5 (using while loop):\n",
      "[2, 4, 5, 6, 8, 10, 12, 14, 15, 16, 18, 20, 22, 24, 25, 26, 28, 30, 32, 34, 35, 36, 38, 40, 42, 44, 45, 46, 48, 50, 52, 54, 55, 56, 58, 60, 62, 64, 65, 66, 68, 70, 72, 74, 75, 76, 78, 80, 82, 84, 85, 86, 88, 90, 92, 94, 95, 96, 98, 100]\n"
     ]
    }
   ],
   "source": [
    "# Using while loop:\n",
    "\n",
    "cubes_list = []\n",
    "num = 1\n",
    "while num <= 100:\n",
    "    cube = num ** 3\n",
    "    if cube % 4 == 0 or cube % 5 == 0:\n",
    "        cubes_list.append(num)\n",
    "    num += 1\n",
    "print(\"List of numbers whose cube is divisible by 4 or 5 (using while loop):\")\n",
    "print(cubes_list)"
   ]
  },
  {
   "cell_type": "markdown",
   "id": "a4e1d784-be5f-4882-a507-0382ef145929",
   "metadata": {},
   "source": [
    "## Q5. Write a program to filter count voweles in the below-given string.\n",
    "string = \"I want to become a data scientist\""
   ]
  },
  {
   "cell_type": "code",
   "execution_count": 5,
   "id": "9d690fa0-1160-4eef-8269-2fef4bf3f472",
   "metadata": {},
   "outputs": [
    {
     "name": "stdout",
     "output_type": "stream",
     "text": [
      "Number of vowels in the string: 12\n"
     ]
    }
   ],
   "source": [
    "string = \"I want to become a data scientist\"\n",
    "vowels = \"aeiouAEIOU\"\n",
    "count = 0\n",
    "\n",
    "for char in string:\n",
    "    if char in vowels:\n",
    "        count += 1\n",
    "\n",
    "print(\"Number of vowels in the string:\", count)"
   ]
  }
 ],
 "metadata": {
  "kernelspec": {
   "display_name": "Python 3 (ipykernel)",
   "language": "python",
   "name": "python3"
  },
  "language_info": {
   "codemirror_mode": {
    "name": "ipython",
    "version": 3
   },
   "file_extension": ".py",
   "mimetype": "text/x-python",
   "name": "python",
   "nbconvert_exporter": "python",
   "pygments_lexer": "ipython3",
   "version": "3.10.6"
  }
 },
 "nbformat": 4,
 "nbformat_minor": 5
}
