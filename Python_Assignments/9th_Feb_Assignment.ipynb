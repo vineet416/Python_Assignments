{
 "cells": [
  {
   "cell_type": "markdown",
   "id": "07f9c58a-84d6-4eea-917c-701fb7cab962",
   "metadata": {},
   "source": [
    "## Python Assignment Question (9th-Feb-2023)"
   ]
  },
  {
   "cell_type": "markdown",
   "id": "d1c64bcd-8a0e-4933-96d4-e2cde7305647",
   "metadata": {},
   "source": [
    "# Q1, Create a vehicle class with an init method having instance variables as name_of_vehicle, max_speed and average_of_vehicle."
   ]
  },
  {
   "cell_type": "code",
   "execution_count": 1,
   "id": "2155c31b-c56a-432b-bf88-e95d02fdf2f3",
   "metadata": {},
   "outputs": [],
   "source": [
    "class vehicle:\n",
    "    \n",
    "    def __init__ (self, name_of_vehicle, max_speed, average_of_vehicle):\n",
    "        self.name_of_vehicle = name_of_vehicle\n",
    "        self.max_speed = max_speed\n",
    "        self.average_of_vehicle = average_of_vehicle\n",
    "        \n",
    "    def return_vehicle_details(self):\n",
    "        return self.name_of_vehicle, self.max_speed, self.average_of_vehicle"
   ]
  },
  {
   "cell_type": "code",
   "execution_count": 2,
   "id": "c7663c9d-694d-4ea4-bfa4-e0e5ff718be3",
   "metadata": {},
   "outputs": [
    {
     "data": {
      "text/plain": [
       "('BMW i8', 360, 60)"
      ]
     },
     "execution_count": 2,
     "metadata": {},
     "output_type": "execute_result"
    }
   ],
   "source": [
    "vehicle1 = vehicle(\"BMW i8\", 360,60)\n",
    "\n",
    "vehicle1.return_vehicle_details()"
   ]
  },
  {
   "cell_type": "markdown",
   "id": "aed2da9b-9bf5-4b1e-a7dd-ccb39c65e93f",
   "metadata": {},
   "source": [
    "## Q2. Create a child class car from the vehicle class created in Que 1, which will inherit the vehicle class. Create a method named seating_capacity which takes capacity as an argument and returns the name of the vehicle and its seating capacity."
   ]
  },
  {
   "cell_type": "code",
   "execution_count": 3,
   "id": "c72e8079-f020-46f7-8c07-cebcb09d2dde",
   "metadata": {},
   "outputs": [],
   "source": [
    "class Car(vehicle):\n",
    "    def seating_capacity(self, capacity):\n",
    "        return f\"{self.name_of_vehicle} has a seating capacity of {capacity}\""
   ]
  },
  {
   "cell_type": "code",
   "execution_count": 4,
   "id": "98bb5324-e7e5-47f7-abdb-b63822ce3113",
   "metadata": {},
   "outputs": [
    {
     "data": {
      "text/plain": [
       "'BMW i8 has a seating capacity of 2'"
      ]
     },
     "execution_count": 4,
     "metadata": {},
     "output_type": "execute_result"
    }
   ],
   "source": [
    "Car('BMW i8', 300, 50).seating_capacity(2)"
   ]
  },
  {
   "cell_type": "markdown",
   "id": "aa6b71e8-4d45-41c2-a4fc-19d9dbbca87b",
   "metadata": {},
   "source": [
    "## Q3. What is multiple inheritance? Write a python code to demonstrate multiple inheritance.\n",
    "\n",
    "\n",
    "Ans.:-  Multiple inheritance is a feature of object-oriented programming languages like Python, where a class can inherit attributes and methods from more than one parent class. This allows for more flexibility and reusability in class design.\n",
    "\n",
    "Here's an example code to demonstrate multiple inheritance:"
   ]
  },
  {
   "cell_type": "code",
   "execution_count": 5,
   "id": "676763a3-92a2-4ad6-8f18-fcfeaec8eff2",
   "metadata": {},
   "outputs": [],
   "source": [
    "class A:\n",
    "    def method_A(self):\n",
    "        print(\"This is method A from class A.\")\n",
    "\n",
    "class B:\n",
    "    def method_B(self):\n",
    "        print(\"This is method B from class B.\")\n",
    "\n",
    "class C(A, B):\n",
    "    def method_C(self):\n",
    "        print(\"This is method C from class C.\")"
   ]
  },
  {
   "cell_type": "code",
   "execution_count": 6,
   "id": "8d7ca5c0-4f62-4696-be23-9e5fc2449506",
   "metadata": {},
   "outputs": [
    {
     "name": "stdout",
     "output_type": "stream",
     "text": [
      "This is method A from class A.\n",
      "This is method B from class B.\n",
      "This is method C from class C.\n"
     ]
    }
   ],
   "source": [
    "c1 = C()\n",
    "c1.method_A()\n",
    "c1.method_B()\n",
    "c1.method_C()"
   ]
  },
  {
   "cell_type": "markdown",
   "id": "438a4237-16ac-48d0-af53-18b4aa7138c8",
   "metadata": {},
   "source": [
    "## Q4. What are getter and setter in python? Create a class and create a getter and a setter method in this class.\n",
    "\n",
    "\n",
    "Ans.:- Getter and setter methods are used to control access to an object's attributes in object-oriented programming languages like Python. A getter method allows retrieving the value of a private attribute, while a setter method allows modifying the value of a private attribute.\n",
    "\n",
    "Here's an example code to create a Person class with a private attribute age, and getter and setter methods for this attribute:"
   ]
  },
  {
   "cell_type": "code",
   "execution_count": 7,
   "id": "a77d8ac5-56ba-4200-8859-18ebd742219f",
   "metadata": {},
   "outputs": [],
   "source": [
    "class Person:\n",
    "    def __init__(self, name, age):\n",
    "        self.name = name\n",
    "        self.__age = age\n",
    "\n",
    "    def get_age(self):\n",
    "        return self.__age\n",
    "\n",
    "    def set_age(self, age):\n",
    "        if age < 0:\n",
    "            raise ValueError(\"Age cannot be negative.\")\n",
    "        else:\n",
    "            self.__age = age"
   ]
  },
  {
   "cell_type": "code",
   "execution_count": 8,
   "id": "ca8973d0-2c04-43a3-9eff-0f9ba8168039",
   "metadata": {},
   "outputs": [
    {
     "name": "stdout",
     "output_type": "stream",
     "text": [
      "30\n"
     ]
    }
   ],
   "source": [
    "p1 = Person(\"John\", 30)\n",
    "print(p1.get_age())"
   ]
  },
  {
   "cell_type": "code",
   "execution_count": 9,
   "id": "44cc6cf8-b38b-4592-a0d6-7c16421490db",
   "metadata": {},
   "outputs": [
    {
     "name": "stdout",
     "output_type": "stream",
     "text": [
      "35\n"
     ]
    }
   ],
   "source": [
    "p1.set_age(35)\n",
    "print(p1.get_age())"
   ]
  },
  {
   "cell_type": "markdown",
   "id": "28015fb5-49b1-4804-94a8-0f763eb8fd2d",
   "metadata": {},
   "source": [
    "## Q5.What is method overriding in python? Write a python code to demonstrate method overriding.\n",
    "\n",
    "\n",
    "Ans.:-  Method overriding is a feature of object-oriented programming where a child class can define a method with the same name and signature as a method in its parent class, effectively replacing the parent's implementation with its own.\n",
    "\n",
    "Here's an example code to demonstrate method overriding in Python:"
   ]
  },
  {
   "cell_type": "code",
   "execution_count": 10,
   "id": "c0110f82-5ea5-4221-8bd4-3c29384fc766",
   "metadata": {},
   "outputs": [],
   "source": [
    "class Shape:\n",
    "    def area(self):\n",
    "        pass\n",
    "\n",
    "class Circle(Shape):\n",
    "    def __init__(self, radius):\n",
    "        self.radius = radius\n",
    "\n",
    "    def area(self):\n",
    "        return 3.14 * self.radius ** 2\n",
    "\n",
    "class Square(Shape):\n",
    "    def __init__(self, side):\n",
    "        self.side = side\n",
    "\n",
    "    def area(self):\n",
    "        return self.side ** 2"
   ]
  },
  {
   "cell_type": "code",
   "execution_count": 11,
   "id": "e8b72084-beba-4c89-9bc4-1afaabc80b01",
   "metadata": {},
   "outputs": [
    {
     "name": "stdout",
     "output_type": "stream",
     "text": [
      "78.5\n"
     ]
    }
   ],
   "source": [
    "c1 = Circle(5)\n",
    "print(c1.area())"
   ]
  },
  {
   "cell_type": "code",
   "execution_count": 12,
   "id": "0ba56fd5-3853-40ea-b425-5911b83c60ab",
   "metadata": {},
   "outputs": [
    {
     "name": "stdout",
     "output_type": "stream",
     "text": [
      "16\n"
     ]
    }
   ],
   "source": [
    "s1 = Square(4)\n",
    "print(s1.area())"
   ]
  }
 ],
 "metadata": {
  "kernelspec": {
   "display_name": "Python 3 (ipykernel)",
   "language": "python",
   "name": "python3"
  },
  "language_info": {
   "codemirror_mode": {
    "name": "ipython",
    "version": 3
   },
   "file_extension": ".py",
   "mimetype": "text/x-python",
   "name": "python",
   "nbconvert_exporter": "python",
   "pygments_lexer": "ipython3",
   "version": "3.10.6"
  }
 },
 "nbformat": 4,
 "nbformat_minor": 5
}
