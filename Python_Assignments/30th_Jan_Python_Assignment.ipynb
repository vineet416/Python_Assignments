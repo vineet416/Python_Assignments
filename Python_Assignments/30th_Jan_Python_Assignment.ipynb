{
 "cells": [
  {
   "cell_type": "markdown",
   "id": "77600679-ec8e-427e-b37b-dba4e8e71519",
   "metadata": {},
   "source": [
    "## Python Assignment Quention (30th Jan)"
   ]
  },
  {
   "cell_type": "markdown",
   "id": "95ae7c43-195a-4a2e-ab83-e0531eaf9790",
   "metadata": {},
   "source": [
    "## 1. Write a program to accept percentage from user and displaythe grade according to the following criteria:  \n",
    "Marks > 90 A Grade,   \n",
    "Marks > 80 and <=90 B Grade,   \n",
    "Marks >=60 and <=80 C Grade,   \n",
    "Marks below 60 D Grade"
   ]
  },
  {
   "cell_type": "code",
   "execution_count": 1,
   "id": "bd584ac4-2a49-4004-acbd-b40f25a7998d",
   "metadata": {},
   "outputs": [
    {
     "name": "stdin",
     "output_type": "stream",
     "text": [
      "Enter your Percentage 85\n"
     ]
    },
    {
     "name": "stdout",
     "output_type": "stream",
     "text": [
      "B Grade\n"
     ]
    }
   ],
   "source": [
    "percentage = float(input(\"Enter your Percentage\"))\n",
    "if percentage >90 and percentage <= 100:\n",
    "    print(\"A Grade\")\n",
    "elif percentage > 80 and percentage <= 90:\n",
    "        print(\"B Grade\")\n",
    "elif percentage >= 60 and percentage <= 80:\n",
    "        print(\"C Grade\")\n",
    "elif percentage < 60 and percentage >= 0:\n",
    "    print(\"D Grade\")\n",
    "else:\n",
    "    print(\"Please enter your percentage in range of 0-100\")"
   ]
  },
  {
   "cell_type": "markdown",
   "id": "e527de51-ccb4-4c32-bb71-f7ba98d3241c",
   "metadata": {},
   "source": [
    "## 2. Write a program to accept the cost price of a bike and display the road tax to be paid according to the following criteria:\n",
    "cost price (in Rs) >100000 Tax is 15%,   \n",
    "cost price (in Rs) >50000 and <= 100000 Tax is 10%,    \n",
    "cost price (in Rs) <= 50000 Tax is 5%"
   ]
  },
  {
   "cell_type": "code",
   "execution_count": 2,
   "id": "d41ff6c5-d4c3-4c5c-80a8-6d6acc653ff4",
   "metadata": {},
   "outputs": [
    {
     "name": "stdin",
     "output_type": "stream",
     "text": [
      "Enter cost price of bike 130000\n"
     ]
    },
    {
     "name": "stdout",
     "output_type": "stream",
     "text": [
      "your tax rate is 15%\n",
      "You have to pay 19500.0 Rs as road tax\n"
     ]
    }
   ],
   "source": [
    "cost_price = float(input(\"Enter cost price of bike\"))\n",
    "if cost_price > 100000:\n",
    "    print(\"your tax rate is 15%\")\n",
    "    print(\"You have to pay\", cost_price*0.15 ,\"Rs as road tax\")\n",
    "elif cost_price > 50000 and cost_price <= 100000:\n",
    "    print(\"your tax rate is 10%\")\n",
    "    print(\"You have to pay\", cost_price*0.10 ,\"Rs as road tax\")\n",
    "elif cost_price <= 50000 and cost_price >= 0:\n",
    "    print(\"your tax rate is 5%\")\n",
    "    print(\"You have to pay\", cost_price*0.05 ,\"Rs as road tax\")\n",
    "else:\n",
    "    print(\"Error\")\n",
    "    print(\"Please enter a Positive Value\")"
   ]
  },
  {
   "cell_type": "markdown",
   "id": "1c695701-5a9b-47af-9868-2c6bf6c59886",
   "metadata": {},
   "source": [
    "## 3. Accept any city from the user and display monuments of that city\n",
    "delhi = Red Fort,   \n",
    "agra = Taj Mahal,  \n",
    "jaipur = Jal Mahal"
   ]
  },
  {
   "cell_type": "code",
   "execution_count": 3,
   "id": "f851636f-91af-40fd-85be-7529a086a10f",
   "metadata": {},
   "outputs": [
    {
     "name": "stdin",
     "output_type": "stream",
     "text": [
      "Enter City name Delhi\n"
     ]
    },
    {
     "name": "stdout",
     "output_type": "stream",
     "text": [
      "The monument in Delhi is Red Fort\n"
     ]
    }
   ],
   "source": [
    "city = input(\"Enter City name\")\n",
    "delhi_monuments = \"Red Fort\"\n",
    "agra_monuments = \"Taj Mahal\"\n",
    "jaipur_monuments = \"Jal Mahal\"\n",
    "\n",
    "if city.lower() == \"delhi\":\n",
    "    print(\"The monument in\", city, \"is\", delhi_monuments)\n",
    "elif city.lower() == \"agra\":\n",
    "    print(\"The monument in\", city, \"is\", agra_monuments)\n",
    "elif city.lower() == \"jaipur\":\n",
    "    print(\"The monument in\", city, \"is\", jaipur_monuments)\n",
    "else:\n",
    "    print(\"Sorry, we do not have information about the monuments in\", city)"
   ]
  },
  {
   "cell_type": "markdown",
   "id": "304d8bfd-644b-4a78-b056-404a397fa2de",
   "metadata": {},
   "source": [
    "## 4. Check how many times a given number can be divided by 3 before it is less than or equal to 10"
   ]
  },
  {
   "cell_type": "code",
   "execution_count": 4,
   "id": "51f9f7b0-2cba-4c9f-8f69-29f85b3de23b",
   "metadata": {},
   "outputs": [
    {
     "name": "stdin",
     "output_type": "stream",
     "text": [
      "Enter the number 100\n"
     ]
    },
    {
     "name": "stdout",
     "output_type": "stream",
     "text": [
      "The given number can be divided by 3 3 times before it is less than or equal to 10.\n"
     ]
    }
   ],
   "source": [
    "number = float(input(\"Enter the number\"))\n",
    "count = 0\n",
    "\n",
    "while number > 10:\n",
    "    number = number/3\n",
    "    count = count + 1\n",
    "print(\"The given number can be divided by 3\", count, \"times before it is less than or equal to 10.\")"
   ]
  },
  {
   "cell_type": "markdown",
   "id": "8510ee28-95d4-4366-9947-a81bd9373faa",
   "metadata": {},
   "source": [
    "## 5. why and when to use while loop in python give a detailed description with example"
   ]
  },
  {
   "cell_type": "markdown",
   "id": "6281cf36-e2f7-4fd7-a0aa-843d16c4a415",
   "metadata": {},
   "source": [
    "Ans.The while loop is a control flow statement in Python that allows us to execute a block of code repeatedly as long as a specified condition is true.   \n",
    "we use while loops in Python when we want to execute a block of code repeatedly as long as a certain condition is true. We can use while loops for a variety of purposes, such as iterating through a sequence of values, processing input until a certain condition is met, and implementing algorithms that require repeated computations. However, we need to be careful while using while loops, as they can lead to infinite loops if the condition is not properly specified or updated within the loop."
   ]
  },
  {
   "cell_type": "code",
   "execution_count": 5,
   "id": "8c6d3d0c-5b27-4322-b6fd-3af15b7da63e",
   "metadata": {},
   "outputs": [
    {
     "name": "stdout",
     "output_type": "stream",
     "text": [
      "0\n",
      "1\n",
      "2\n",
      "3\n",
      "4\n",
      "5\n"
     ]
    }
   ],
   "source": [
    "## Example 1: Iterating through a sequence of values\n",
    "\n",
    "i = 0\n",
    "while i <= 5:\n",
    "    print(i)\n",
    "    i =i + 1"
   ]
  },
  {
   "cell_type": "code",
   "execution_count": 6,
   "id": "a9c786c9-ef3e-4baa-bcbc-df15d5264b81",
   "metadata": {},
   "outputs": [
    {
     "name": "stdin",
     "output_type": "stream",
     "text": [
      "Enter a number (0 to stop):  855\n",
      "Enter a number (0 to stop):  233\n",
      "Enter a number (0 to stop):  354\n",
      "Enter a number (0 to stop):  0\n"
     ]
    },
    {
     "name": "stdout",
     "output_type": "stream",
     "text": [
      "The sum is: 1442\n"
     ]
    }
   ],
   "source": [
    "## Example 2: Processing input until a certain condition is met\n",
    "\n",
    "total = 0\n",
    "while True:\n",
    "    number = int(input(\"Enter a number (0 to stop): \"))\n",
    "    if number == 0:\n",
    "        break\n",
    "    total = total+ number\n",
    "print(\"The sum is:\", total)"
   ]
  },
  {
   "cell_type": "code",
   "execution_count": 7,
   "id": "91747415-0412-4a54-b0a1-5595c5c1076d",
   "metadata": {},
   "outputs": [
    {
     "name": "stdout",
     "output_type": "stream",
     "text": [
      "The factorial is: 120\n"
     ]
    }
   ],
   "source": [
    "## Example 3: Implementing algorithms that require repeated computations\n",
    "\n",
    "n = 5\n",
    "factorial = 1\n",
    "while n > 0:\n",
    "    factorial = factorial * n\n",
    "    n =n - 1\n",
    "print(\"The factorial is:\", factorial)"
   ]
  },
  {
   "cell_type": "markdown",
   "id": "00080c89-5f9f-4b73-bd32-41c6a504231b",
   "metadata": {},
   "source": [
    "## 6. Use nested while loop to print 3 different pattern"
   ]
  },
  {
   "cell_type": "code",
   "execution_count": 6,
   "id": "32982445-cc19-4e4b-9142-6284639a45e6",
   "metadata": {},
   "outputs": [
    {
     "name": "stdout",
     "output_type": "stream",
     "text": [
      "*\n",
      "**\n",
      "***\n",
      "****\n",
      "*****\n"
     ]
    }
   ],
   "source": [
    "# Pattern 1:\n",
    "\n",
    "i = 1\n",
    "while i <= 5:\n",
    "    j = 1\n",
    "    while j <= i:\n",
    "        print(\"*\", end=\"\")\n",
    "        j = j + 1\n",
    "    print()\n",
    "    i = i + 1"
   ]
  },
  {
   "cell_type": "code",
   "execution_count": 8,
   "id": "1f0c008e-836a-4efc-9371-a79780208f67",
   "metadata": {},
   "outputs": [
    {
     "name": "stdout",
     "output_type": "stream",
     "text": [
      "*****\n",
      "****\n",
      "***\n",
      "**\n",
      "*\n"
     ]
    }
   ],
   "source": [
    "# Pattern 2:\n",
    "\n",
    "i = 5\n",
    "while i >= 1:\n",
    "    j = 1\n",
    "    while j <= i:\n",
    "        print(\"*\", end=\"\")\n",
    "        j = j + 1\n",
    "    print()\n",
    "    i = i - 1"
   ]
  },
  {
   "cell_type": "code",
   "execution_count": 10,
   "id": "7ddf203b-1f13-4345-8d07-989e0dbbe0c4",
   "metadata": {},
   "outputs": [
    {
     "name": "stdout",
     "output_type": "stream",
     "text": [
      "  *  \n",
      " *** \n",
      "*****\n"
     ]
    }
   ],
   "source": [
    "# Pattern 3:\n",
    "\n",
    "i = 1\n",
    "while i <= 3:\n",
    "    j = 1\n",
    "    while j <= 5:\n",
    "        if j >= (4 - i) and j <= (2 + i):\n",
    "            print(\"*\", end=\"\")\n",
    "        else:\n",
    "            print(\" \", end=\"\")\n",
    "        j = j + 1\n",
    "    print()\n",
    "    i =i + 1"
   ]
  },
  {
   "cell_type": "markdown",
   "id": "3ac0367d-4cc2-488a-808f-30857d3d0e6c",
   "metadata": {},
   "source": [
    "## 7. reverse a while loop to display numbers from 10 to 1"
   ]
  },
  {
   "cell_type": "code",
   "execution_count": 11,
   "id": "c3585f2c-eed2-4d09-acb0-19662d154aa4",
   "metadata": {},
   "outputs": [
    {
     "name": "stdout",
     "output_type": "stream",
     "text": [
      "10\n",
      "9\n",
      "8\n",
      "7\n",
      "6\n",
      "5\n",
      "4\n",
      "3\n",
      "2\n",
      "1\n"
     ]
    }
   ],
   "source": [
    "number = 10\n",
    "while number >= 1:\n",
    "    print(number)\n",
    "    number = number - 1"
   ]
  }
 ],
 "metadata": {
  "kernelspec": {
   "display_name": "Python 3 (ipykernel)",
   "language": "python",
   "name": "python3"
  },
  "language_info": {
   "codemirror_mode": {
    "name": "ipython",
    "version": 3
   },
   "file_extension": ".py",
   "mimetype": "text/x-python",
   "name": "python",
   "nbconvert_exporter": "python",
   "pygments_lexer": "ipython3",
   "version": "3.10.6"
  }
 },
 "nbformat": 4,
 "nbformat_minor": 5
}
