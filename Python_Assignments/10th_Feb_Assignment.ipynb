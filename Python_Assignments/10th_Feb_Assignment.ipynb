{
 "cells": [
  {
   "cell_type": "markdown",
   "id": "4508dd76-5fa3-40b0-adc3-6449bf2eec1e",
   "metadata": {},
   "source": [
    "## Python Assignment Questions (10th-Feb_2023)"
   ]
  },
  {
   "cell_type": "markdown",
   "id": "63d801da-3876-4e5c-b2f2-d9d5e3f61009",
   "metadata": {},
   "source": [
    "## Q1. Which function is used to open a file? What are the different modes of opening a file? Explain each mode of file opening.\n",
    "\n",
    "\n",
    "Ans.:- In Python, the open() function is used to open a file. It takes two arguments: the file path and the mode in which the file should be opened.\n",
    "\n",
    "The different modes of opening a file are:\n",
    "\n",
    "- 1)  \"r\" (read mode): This mode is used to open a file in read-only mode. The file pointer is positioned at the beginning of the file. If the file does not exist, an error is raised.\n",
    "\n",
    "- 2)  \"w\" (write mode): This mode is used to open a file in write mode. If the file already exists, it is truncated to zero length. If the file does not exist, a new file is created. The file pointer is positioned at the beginning of the file.\n",
    "\n",
    "- 3)  \"a\" (append mode): This mode is used to open a file in append mode. The file pointer is positioned at the end of the file. If the file does not exist, a new file is created.\n",
    "\n",
    "- 4)  \"x\" (exclusive creation mode): This mode is used to open a file in exclusive creation mode. If the file already exists, an error is raised. If the file does not exist, a new file is created.\n",
    "\n",
    "- 5)  \"b\" (binary mode): This mode is used to open a file in binary mode. This mode should be used when working with non-text files like images, audio files, or binary data.\n",
    "\n",
    "- 6)  \"t\" (text mode): This mode is used to open a file in text mode. This is the default mode when opening a file. It should be used when working with text files.\n",
    "\n",
    "- 7)  \"+\" (read and write mode): This mode is used to open a file in both read and write mode.\n",
    "\n",
    "For example,\n",
    "- to open a file named \"example.txt\" in read mode, the following code can be used:\n",
    "\n",
    "file = open(\"example.txt\", \"r\")\n",
    "\n",
    "- To open a file in write mode, the following code can be used:\n",
    "\n",
    "file = open(\"example.txt\", \"w\")\n",
    "\n",
    "- To open a file in append mode, the following code can be used:\n",
    "\n",
    "file = open(\"example.txt\", \"a\")\n",
    "\n",
    "- To open a file in exclusive creation mode, the following code can be used:\n",
    "\n",
    "file = open(\"example.txt\", \"x\")\n",
    "\n",
    "- To open a binary file in read mode, the following code can be used:\n",
    "\n",
    "file = open(\"example.bin\", \"rb\")\n",
    "\n",
    "- To open a text file in read and write mode, the following code can be used:   \n",
    "file = open(\"example.txt\", \"r+\")"
   ]
  },
  {
   "cell_type": "markdown",
   "id": "4c9278d8-4cf6-4aa6-9d55-2d702bbe776b",
   "metadata": {},
   "source": [
    "## Q2. Why close() function is used? Why is it important to close a file?\n",
    "\n",
    "Ans.:- In Python, the close() function is used to close a file that has been opened using the open() function.\n",
    "\n",
    "It is important to close a file after using it because it releases any system resources that were associated with the file. When a file is opened, the operating system allocates some resources, such as memory and file descriptors, to the file. If a file is not closed properly, these resources may not be released immediately and can remain tied up, even if the Python program has finished executing. This can cause resource leaks and lead to problems such as:\n",
    "\n",
    "- Running out of system resources\n",
    "- Inability to open additional files\n",
    "- Inability to write to the file \n",
    "\n",
    "Therefore, it is considered a best practice to always close a file after using it. This is done using the close() function. Once a file is closed, any further attempts to read from or write to the file will raise an error.\n",
    "\n",
    "Here is an example of how to open and close a file in Python:"
   ]
  },
  {
   "cell_type": "code",
   "execution_count": 1,
   "id": "b4c5f100-f3c6-4ad1-9e1e-1d1361292ad2",
   "metadata": {},
   "outputs": [],
   "source": [
    "file = open(\"example.txt\", \"r\")\n",
    "# Do some operations on the file\n",
    "file.close()"
   ]
  },
  {
   "cell_type": "markdown",
   "id": "4988ce88-8d63-4daa-b911-08f199afe93d",
   "metadata": {},
   "source": [
    "## Q3. Write a python program to create a text file. Write ‘I want to become a Data Scientist’ in that file. Then close the file. Open this file and read the content of the file.\n",
    "\n",
    "Ans.:- Here is an example Python program that creates a text file, writes some text to it, closes the file, and then reads the contents of the file:"
   ]
  },
  {
   "cell_type": "code",
   "execution_count": 2,
   "id": "da3374ac-c703-47e8-8567-f6e379d747e4",
   "metadata": {},
   "outputs": [
    {
     "name": "stdout",
     "output_type": "stream",
     "text": [
      "I want to become a Data Scientist\n"
     ]
    }
   ],
   "source": [
    "# Open file in write mode\n",
    "file = open(\"data_scientist.txt\", \"w\")\n",
    "\n",
    "# Write to file\n",
    "file.write(\"I want to become a Data Scientist\")\n",
    "\n",
    "# Close the file\n",
    "file.close()\n",
    "\n",
    "# Open file in read mode\n",
    "file = open(\"data_scientist.txt\", \"r\")\n",
    "\n",
    "# Read the contents of the file\n",
    "file_contents = file.read()\n",
    "\n",
    "# Close the file\n",
    "file.close()\n",
    "\n",
    "# Print the contents of the file\n",
    "print(file_contents)"
   ]
  },
  {
   "cell_type": "markdown",
   "id": "5bf7c88c-1c83-4442-ac91-859dc14b0c3b",
   "metadata": {},
   "source": [
    "## Q4. Explain the following with python code: read(), readline() and readlines().\n",
    "\n",
    "\n",
    "Ans.:-  In Python, there are several methods available for reading data from a file. The three most common methods are read(), readline(), and readlines(). Here is an explanation of each method with an example Python code:\n",
    "\n",
    "1. read(): The read() method reads the entire contents of a file as a string.    \n",
    "Example:"
   ]
  },
  {
   "cell_type": "code",
   "execution_count": 3,
   "id": "8018b94a-d292-4148-9593-cd02c21c2427",
   "metadata": {},
   "outputs": [
    {
     "name": "stdout",
     "output_type": "stream",
     "text": [
      "\n"
     ]
    }
   ],
   "source": [
    "# Open file in read mode\n",
    "file = open(\"example.txt\", \"r\")\n",
    "\n",
    "# Read the entire file\n",
    "file_contents = file.read()\n",
    "\n",
    "# Close the file\n",
    "file.close()\n",
    "\n",
    "# Print the contents of the file\n",
    "print(file_contents)"
   ]
  },
  {
   "cell_type": "markdown",
   "id": "c406f87b-5bd6-45a7-9f53-52ce5c403e65",
   "metadata": {},
   "source": [
    "2. readline(): The readline() method reads a single line of a file as a string.    \n",
    "Example:"
   ]
  },
  {
   "cell_type": "code",
   "execution_count": 4,
   "id": "e525ae39-5f20-4c8a-b6d5-d27fd7ceb19f",
   "metadata": {},
   "outputs": [
    {
     "name": "stdout",
     "output_type": "stream",
     "text": [
      "\n"
     ]
    }
   ],
   "source": [
    "# Open file in read mode\n",
    "file = open(\"example.txt\", \"r\")\n",
    "\n",
    "# Read the first line of the file\n",
    "first_line = file.readline()\n",
    "\n",
    "# Close the file\n",
    "file.close()\n",
    "\n",
    "# Print the first line of the file\n",
    "print(first_line)"
   ]
  },
  {
   "cell_type": "markdown",
   "id": "d69f4302-a063-4a59-9c7e-f3817dcb1428",
   "metadata": {},
   "source": [
    "3. readlines(): The readlines() method reads all the lines of a file and returns them as a list of strings.     \n",
    "Example:"
   ]
  },
  {
   "cell_type": "code",
   "execution_count": 5,
   "id": "3157179a-ffa8-4434-b40b-9cd34840f4c3",
   "metadata": {},
   "outputs": [],
   "source": [
    "# Open file in read mode\n",
    "file = open(\"example.txt\", \"r\")\n",
    "\n",
    "# Read all the lines of the file\n",
    "lines = file.readlines()\n",
    "\n",
    "# Close the file\n",
    "file.close()\n",
    "\n",
    "# Print all the lines of the file\n",
    "for line in lines:\n",
    "    print(line)"
   ]
  },
  {
   "cell_type": "markdown",
   "id": "b4981fe5-46bf-4cad-838e-c2cfef4fb2ff",
   "metadata": {},
   "source": [
    "## Q5. Explain why with statement is used with open(). What is the advantage of using with statement and open() together?\n",
    "\n",
    "Ans.:-  The with statement in Python is used to simplify the management of resources, such as files, sockets, and database connections, by ensuring that the resource is properly closed and released after use. When used with the open() function, the with statement ensures that the file is automatically closed after the block of code inside the with statement is executed.\n",
    "\n",
    "Here is an example of using the with statement and open() function together to read the contents of a file:"
   ]
  },
  {
   "cell_type": "code",
   "execution_count": 6,
   "id": "ff906e8d-5dc8-4893-ab86-b08c7a5023f2",
   "metadata": {},
   "outputs": [
    {
     "name": "stdout",
     "output_type": "stream",
     "text": [
      "\n"
     ]
    }
   ],
   "source": [
    "with open('example.txt', 'r') as file:\n",
    "    file_contents = file.read()\n",
    "\n",
    "print(file_contents)"
   ]
  },
  {
   "cell_type": "markdown",
   "id": "9f9cbe38-a752-4db9-ba9c-0b61988f6def",
   "metadata": {},
   "source": [
    "The advantage of using the with statement and open() function together is that it ensures that the file is properly closed and resources are released after use, even if an error occurs while the file is being accessed. This helps prevent resource leaks and improves the reliability of the code."
   ]
  },
  {
   "cell_type": "markdown",
   "id": "9c32f460-2de3-4fdc-924e-13ff4a1fdfff",
   "metadata": {},
   "source": [
    "## Q6. Explain the write() and writelines() functions. Give a suitable example.\n",
    "\n",
    "Ans.:- In Python, the write() and writelines() functions are used to write data to a file. Here is an explanation of each function with an example:\n",
    "\n",
    "1. write(): The write() function is used to write a string of characters to a file. If the file does not exist, it will be created. If the file already exists, the contents of the file will be overwritten.    \n",
    "Example:"
   ]
  },
  {
   "cell_type": "code",
   "execution_count": 7,
   "id": "7c959a90-0ce0-4529-9c1d-c0528bc6c467",
   "metadata": {},
   "outputs": [],
   "source": [
    "# Open file in write mode\n",
    "file = open(\"example.txt\", \"w\")\n",
    "\n",
    "# Write a string to the file\n",
    "file.write(\"I want to become a Data Scientist\")\n",
    "\n",
    "# Close the file\n",
    "file.close()"
   ]
  },
  {
   "cell_type": "markdown",
   "id": "f4fed7b0-7e0d-4a73-abd4-21d6ccee21f3",
   "metadata": {},
   "source": [
    "2. writelines(): The writelines() function is used to write a list of strings to a file. Each string in the list will be written to a separate line in the file.    \n",
    "Example:"
   ]
  },
  {
   "cell_type": "code",
   "execution_count": 8,
   "id": "9e4f7709-e87c-4f17-8c82-92196333e4b3",
   "metadata": {},
   "outputs": [],
   "source": [
    "# Create a list of strings\n",
    "lines = [\"I want to become a Data Scientist\", \"Data Science is a fascinating field\"]\n",
    "\n",
    "# Open file in write mode\n",
    "file = open(\"example.txt\", \"w\")\n",
    "\n",
    "# Write the list of strings to the file\n",
    "file.writelines(lines)\n",
    "\n",
    "# Close the file\n",
    "file.close()"
   ]
  }
 ],
 "metadata": {
  "kernelspec": {
   "display_name": "Python 3 (ipykernel)",
   "language": "python",
   "name": "python3"
  },
  "language_info": {
   "codemirror_mode": {
    "name": "ipython",
    "version": 3
   },
   "file_extension": ".py",
   "mimetype": "text/x-python",
   "name": "python",
   "nbconvert_exporter": "python",
   "pygments_lexer": "ipython3",
   "version": "3.10.6"
  }
 },
 "nbformat": 4,
 "nbformat_minor": 5
}
