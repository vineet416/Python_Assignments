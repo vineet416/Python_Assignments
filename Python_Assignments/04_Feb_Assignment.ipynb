{
 "cells": [
  {
   "cell_type": "markdown",
   "id": "1851a61b-19a7-4511-bc93-66749e303f64",
   "metadata": {},
   "source": [
    "## Python Assignment Questions (4th-feb-2023)"
   ]
  },
  {
   "cell_type": "markdown",
   "id": "a98d56ff-0cd1-4f5a-b0df-19ae918af20a",
   "metadata": {},
   "source": [
    "## Q1. Create a python program to sort the given list of tuples based on integer value using a lambda function.\n",
    "[('Sachin Tendulkar', 34357), ('Ricky Ponting', 27483), ('Jack Kallis', 25534), ('Virat Kohli', 24936)]"
   ]
  },
  {
   "cell_type": "code",
   "execution_count": 1,
   "id": "43a821e1-5e06-45fd-8ee7-9bd587baf4a0",
   "metadata": {},
   "outputs": [
    {
     "name": "stdout",
     "output_type": "stream",
     "text": [
      "[('Sachin Tendulkar', 34357), ('Ricky Ponting', 27483), ('Jack Kallis', 25534), ('Virat Kohli', 24936)]\n"
     ]
    }
   ],
   "source": [
    "# define the list of tuples\n",
    "lst = [('Sachin Tendulkar', 34357), ('Ricky Ponting', 27483), ('Jack Kallis', 25534), ('Virat Kohli', 24936)]\n",
    "\n",
    "# sort the list of tuples based on the integer value using a lambda function\n",
    "lst.sort(key = lambda x: x[1], reverse = True)\n",
    "\n",
    "# print the sorted list of tuples\n",
    "print(lst)"
   ]
  },
  {
   "cell_type": "markdown",
   "id": "0753faed-e808-4fdd-8ca4-bfb417841165",
   "metadata": {},
   "source": [
    "## Q2. Write a Python Program to find the squares of all the numbers in the given list of integers using lambda and map functions.\n",
    "[1, 2, 3, 4, 5, 6, 7, 8, 9, 10]"
   ]
  },
  {
   "cell_type": "code",
   "execution_count": 2,
   "id": "36077d8a-2a53-4e72-a8be-5947d48741b7",
   "metadata": {},
   "outputs": [
    {
     "name": "stdout",
     "output_type": "stream",
     "text": [
      "[1, 4, 9, 16, 25, 36, 49, 64, 81, 100]\n"
     ]
    }
   ],
   "source": [
    "# define the list of integers\n",
    "lst = [1, 2, 3, 4, 5, 6, 7, 8, 9, 10]\n",
    "\n",
    "# use map() function with lambda to find the squares of all the numbers in the list\n",
    "squares = list(map(lambda x: x**2, lst))\n",
    "\n",
    "# print the list of squares\n",
    "print(squares)"
   ]
  },
  {
   "cell_type": "markdown",
   "id": "f97427ef-c659-45a5-9eea-6a125563ea06",
   "metadata": {},
   "source": [
    "## Q3. Write a python program to convert the given list of integers into a tuple of strings. Use map and lambda functions\n",
    "Given String: [1, 2, 3, 4, 5, 6, 7, 8, 9, 10]\n",
    "Expected output: ('1', '2', '3', '4', '5', '6', '7', '8', '9', '10')"
   ]
  },
  {
   "cell_type": "code",
   "execution_count": 3,
   "id": "1119d707-ac27-46c5-a690-2bd1c362fb1b",
   "metadata": {},
   "outputs": [
    {
     "name": "stdout",
     "output_type": "stream",
     "text": [
      "('1', '2', '3', '4', '5', '6', '7', '8', '9', '10')\n"
     ]
    }
   ],
   "source": [
    "# define the list of integers\n",
    "lst = [1, 2, 3, 4, 5, 6, 7, 8, 9, 10]\n",
    "\n",
    "# use map() function with lambda to convert the list of integers into a tuple of strings\n",
    "tuple_of_strings = tuple(map(lambda x: str(x), lst))\n",
    "\n",
    "# print the tuple of strings\n",
    "print(tuple_of_strings)"
   ]
  },
  {
   "cell_type": "markdown",
   "id": "3d6a3d4e-6733-4e44-8c09-8ad4dd8397f2",
   "metadata": {},
   "source": [
    "## Q4. Write a python program using reduce function to compute the product of a list containing numbers from 1 to 25."
   ]
  },
  {
   "cell_type": "code",
   "execution_count": 4,
   "id": "27774fe6-f0fd-49bf-8df2-259d43192a75",
   "metadata": {},
   "outputs": [
    {
     "name": "stdout",
     "output_type": "stream",
     "text": [
      "15511210043330985984000000\n"
     ]
    }
   ],
   "source": [
    "from functools import reduce\n",
    "\n",
    "# define the list of numbers from 1 to 25\n",
    "lst = list(range(1, 26))\n",
    "\n",
    "# use reduce() function to compute the product of the list\n",
    "product = reduce(lambda x, y: x * y, lst)\n",
    "\n",
    "# print the product\n",
    "print(product)"
   ]
  },
  {
   "cell_type": "markdown",
   "id": "7f6d667f-3d52-4f72-b98a-4dba674e659a",
   "metadata": {},
   "source": [
    "## Q5. Write a python program to filter the numbers in a given list that are divisible by 2 and 3 using the filter function.\n",
    "[2, 3, 6, 9, 27, 60, 90, 120, 55, 46]"
   ]
  },
  {
   "cell_type": "code",
   "execution_count": 5,
   "id": "f4c3b5c7-d864-4650-a001-25a9630ee5e2",
   "metadata": {},
   "outputs": [
    {
     "name": "stdout",
     "output_type": "stream",
     "text": [
      "[6, 60, 90, 120]\n"
     ]
    }
   ],
   "source": [
    "# define the list of numbers\n",
    "lst = [2, 3, 6, 9, 27, 60, 90, 120, 55, 46]\n",
    "\n",
    "# use filter() function to filter the numbers divisible by 2 and 3\n",
    "filtered_lst = list(filter(lambda x: (x % 2 == 0) and (x % 3 == 0), lst))\n",
    "\n",
    "# print the filtered list\n",
    "print(filtered_lst)"
   ]
  },
  {
   "cell_type": "markdown",
   "id": "0a8f19d5-cfe2-4042-97e1-b24b32639019",
   "metadata": {},
   "source": [
    "## Q6. Write a python program to find palindromes in the given list of strings using lambda and filter function.\n",
    "['python', 'php', 'aba', 'radar', 'level']"
   ]
  },
  {
   "cell_type": "code",
   "execution_count": 6,
   "id": "4fc49c18-59be-489d-9cfe-98ad02949adf",
   "metadata": {},
   "outputs": [
    {
     "name": "stdout",
     "output_type": "stream",
     "text": [
      "['php', 'aba', 'radar', 'level']\n"
     ]
    }
   ],
   "source": [
    "# define the list of strings\n",
    "lst = ['python', 'php', 'aba', 'radar', 'level']\n",
    "\n",
    "# use filter() function with lambda to find palindromes in the list\n",
    "palindromes = list(filter(lambda x: x == x[::-1], lst))\n",
    "\n",
    "# print the palindromes\n",
    "print(palindromes)"
   ]
  }
 ],
 "metadata": {
  "kernelspec": {
   "display_name": "Python 3 (ipykernel)",
   "language": "python",
   "name": "python3"
  },
  "language_info": {
   "codemirror_mode": {
    "name": "ipython",
    "version": 3
   },
   "file_extension": ".py",
   "mimetype": "text/x-python",
   "name": "python",
   "nbconvert_exporter": "python",
   "pygments_lexer": "ipython3",
   "version": "3.10.6"
  }
 },
 "nbformat": 4,
 "nbformat_minor": 5
}
